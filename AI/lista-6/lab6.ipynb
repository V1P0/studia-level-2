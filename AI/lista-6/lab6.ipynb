{
  "cells": [
    {
      "cell_type": "markdown",
      "id": "77d98a4e-9418-4397-8b7a-8088621543bc",
      "metadata": {
        "id": "77d98a4e-9418-4397-8b7a-8088621543bc",
        "jp-MarkdownHeadingCollapsed": true
      },
      "source": [
        "# Lista 6\n",
        "\n",
        "## Uczenie maszynowe i sztuczna inteligencja\n",
        "\n",
        "## Wstęp\n",
        "**Na tej liście przejdziemy do wykorzystywania rekurencyjnych sieci neuronowych. Zadania sprowadzają się do analizy istniejącego kodu oraz uzupełnienia implementacji oraz przeprowadzenia dodatkowych eksperymentów.**"
      ]
    },
    {
      "cell_type": "markdown",
      "id": "06432e17-952e-467d-9c9e-93126c2473dc",
      "metadata": {
        "id": "06432e17-952e-467d-9c9e-93126c2473dc"
      },
      "source": [
        "# Zadanie 1 (15pt)\n"
      ]
    },
    {
      "cell_type": "markdown",
      "id": "dfcd8fa2-6094-4cac-b9f9-ce7741c1ef9d",
      "metadata": {
        "id": "dfcd8fa2-6094-4cac-b9f9-ce7741c1ef9d"
      },
      "source": [
        "W tym zadaniu przeanalizujemy różne metody uczenia się na podstawie danych sekwencyjnych.\n",
        "\n",
        "Powtarzającym się przykładem będzie szkolenie sieci neuronowych w zakresie modelowania języka, czyli przewidywania kolejnego tokenu w zdaniu. W kontekście przetwarzania języka naturalnego tokenem może być znak lub słowo, należy jednak pamiętać, że wprowadzone tutaj koncepcje odnoszą się do wszelkiego rodzaju danych sekwencyjnych, takich jak np.: sygnały audio lub filmy\n",
        "\n",
        "Aby naprawdę zrozumieć, co dzieje się w rekurencyjnej sieci neuronowej (RNN), znaczną część tego zadania przeprowadzimy w NumPy, a nie w PyTorch lub Kerasie. Zaczynamy od prostego problemu, zbudujemy RNN za pomocą NumPy, trenujemy i przekonamy się, że to naprawdę działa. Gdy będziemy już przekonani, przystępujemy do budowania i uczenia komórki pamięci długoterminowej (LSTM). Celem tego zadania jest po prostu zapewnienie głębszego zrozumienia uczenia RNN. Gdy zrozumiesz wewnętrzne działanie RNN, przejdziemy do implementacji PyTorch, której będzie można używać w pozostałej części listy.\n",
        "\n",
        "Podsumowując, w tym zadaniu nauczymy się:\n",
        "* Jak reprezentować ciągi zmiennych kategorycznych\n",
        "* Jak zbudować i wytrenować RNN w NumPy\n",
        "* Jak zbudować i trenować sieć RNN i LSTM w PyTorch\n",
        "\n",
        "Duża część poniższej implementacji została zainspirowana implementacją napisaną przez [Andrej Karpathy](https://karpathy.ai/)."
      ]
    },
    {
      "cell_type": "markdown",
      "id": "889043bf-f8e7-4224-8de1-0fe9ed025ee9",
      "metadata": {
        "id": "889043bf-f8e7-4224-8de1-0fe9ed025ee9",
        "jp-MarkdownHeadingCollapsed": true
      },
      "source": [
        "## Reprezentowanie tokenów lub tekstu\n",
        "\n",
        "W poprzednich laboratoriach rozważaliśmy głównie dane $x \\in \\mathrm{R}^d$, gdzie $d$ to wymiar przestrzeni cech.\n",
        "W przypadku sekwencji czasowych nasze dane można przedstawić jako $x \\in \\mathrm{R}^{t \\, \\times \\, d}$, gdzie $t$ to długość sekwencji.\n",
        "Podkreśla to zależność sekwencji i fakt, że próbki wzdłuż sekwencji nie są niezależne i o jednakowym rozkładzie (i.i.d.).\n",
        "Będziemy modelować funkcje jako $\\mathrm{R}^{t \\, \\times \\, d} \\rightarrow \\mathrm{R}^c$, gdzie $c$ to liczba klas na wyjściu.\n",
        "\n",
        "Istnieje kilka sposobów przedstawiania sekwencji. W przypadku tekstu wyzwanie polega na tym, jak przedstawić słowo jako wektor cech w $d$ wymiarach, ponieważ musimy reprezentować tekst za pomocą liczb dziesiętnych, aby zastosować do niego sieci neuronowe.\n",
        "\n",
        "W tym zadaniu użyjemy prostego kodowania typu one-hot, ale w przypadku zmiennych kategoryzacyjnych, które mogą przyjmować wiele wartości (np. słów w języku angielskim), może to być niewykonalne. W takich scenariuszach można rzutować kodowanie na mniejszą przestrzeń za pomocą osadzania (embeddings)."
      ]
    },
    {
      "cell_type": "markdown",
      "id": "56d8c9d9-bd73-44e9-a85a-f752471b4131",
      "metadata": {
        "id": "56d8c9d9-bd73-44e9-a85a-f752471b4131"
      },
      "source": [
        "## Generowanie zbioru danych\n",
        "\n",
        "Na potrzeby tego ćwiczenia utworzymy prosty zbiór danych, z którego będziemy mogli się uczyć. Generujemy ciągi postaci:\n",
        "\n",
        "`a b EOS`,\n",
        "\n",
        "`a a b b EOS`,\n",
        "\n",
        "`a a a a b b b b b EOS`\n",
        "\n",
        "gdzie „EOS” jest znakiem specjalnym oznaczającym koniec sekwencji. Zadanie polega na przewidzeniu kolejnego tokena $t_n$, czyli `a`, `b`, `EOS` lub nieznanego tokena `UNK` na podstawie ciągu tokenów $\\{ t_{1}, t_{2}, \\ kropki , t_{n-1}\\}$, a sekwencje mamy przetwarzać szeregowo. W związku z tym sieć będzie musiała nauczyć się, że m.in. 5 „b” i token „EOS” pojawią się po 5 „a”."
      ]
    },
    {
      "cell_type": "code",
      "execution_count": 1,
      "id": "cf0138e2-fe00-4afa-bdde-0afd680928cc",
      "metadata": {
        "colab": {
          "base_uri": "https://localhost:8080/"
        },
        "id": "cf0138e2-fe00-4afa-bdde-0afd680928cc",
        "outputId": "3c8a27dc-0254-470b-e81a-c14d7fe48be1"
      },
      "outputs": [
        {
          "name": "stdout",
          "output_type": "stream",
          "text": [
            "Pojedyncza wygenerowana próbka:\n",
            "['a', 'a', 'a', 'a', 'a', 'a', 'a', 'b', 'b', 'b', 'b', 'b', 'b', 'b', 'EOS']\n"
          ]
        }
      ],
      "source": [
        "import numpy as np\n",
        "\n",
        "np.random.seed(42)\n",
        "\n",
        "def generate_dataset(num_sequences=2**8):\n",
        "    samples = []\n",
        "    for _ in range(num_sequences):\n",
        "        num_tokens = np.random.randint(1, 12)\n",
        "        sample = ['a'] * num_tokens + ['b'] * num_tokens + ['EOS']\n",
        "        samples.append(sample)\n",
        "    return samples\n",
        "\n",
        "\n",
        "sequences = generate_dataset()\n",
        "\n",
        "print('Pojedyncza wygenerowana próbka:')\n",
        "print(sequences[0])"
      ]
    },
    {
      "cell_type": "markdown",
      "id": "328181c5-1ac4-43bb-ba61-1476de0a8896",
      "metadata": {
        "id": "328181c5-1ac4-43bb-ba61-1476de0a8896"
      },
      "source": [
        "## Reprezentowanie tokenów jako indeksów\n",
        "\n",
        "Aby zbudować kodowanie typu one-hot, musimy każdemu możliwemu słowu w naszym słowniku przypisać indeks. Robimy to tworząc dwa słowniki: jeden, który pozwala nam przejść od danego słowa do odpowiadającego mu indeksu w naszym słowniku, oraz drugi, który pozwala nam przejść w odwrotnym kierunku. Nazwijmy je `word_to_idx` i `idx_to_word`. Słowo kluczowe `vocab_size` określa maksymalny rozmiar naszego słownictwa. Jeśli spróbujemy uzyskać dostęp do słowa, które nie istnieje w naszym słowniku, zostanie ono automatycznie zastąpione tokenem „UNK” lub odpowiadającym mu indeksem."
      ]
    },
    {
      "cell_type": "code",
      "execution_count": 2,
      "id": "512746ec-9a72-4e10-9449-d2b6e769fed1",
      "metadata": {
        "colab": {
          "base_uri": "https://localhost:8080/"
        },
        "id": "512746ec-9a72-4e10-9449-d2b6e769fed1",
        "outputId": "a24e1762-ec8e-47af-d600-4d05eb734064"
      },
      "outputs": [
        {
          "name": "stdout",
          "output_type": "stream",
          "text": [
            "Mamy 256 zdań i 4 unikatowych tokenów.\n",
            "\n",
            "Indeks 'b' to 1\n",
            "Odpowiednik słowa dla indeksu 1 to 'b'\n"
          ]
        }
      ],
      "source": [
        "from collections import defaultdict\n",
        "\n",
        "def sequences_to_dicts(sequences):\n",
        "    flatten = lambda l: [item for sublist in l for item in sublist]\n",
        "    all_words = flatten(sequences)\n",
        "    word_count = defaultdict(int)\n",
        "    for word in flatten(sequences):\n",
        "        word_count[word] += 1\n",
        "    word_count = sorted(list(word_count.items()), key=lambda l: -l[1])\n",
        "    unique_words = [item[0] for item in word_count]\n",
        "    unique_words.append('UNK')\n",
        "    num_sentences, vocab_size = len(sequences), len(unique_words)\n",
        "    word_to_idx = defaultdict(lambda: vocab_size-1)\n",
        "    idx_to_word = defaultdict(lambda: 'UNK')\n",
        "    for idx, word in enumerate(unique_words):\n",
        "        # TWOJ KOD TUTAJ!\n",
        "        word_to_idx[word] = idx\n",
        "        idx_to_word[idx] = word\n",
        "    return word_to_idx, idx_to_word, num_sentences, vocab_size\n",
        "\n",
        "\n",
        "word_to_idx, idx_to_word, num_sequences, vocab_size = sequences_to_dicts(sequences)\n",
        "\n",
        "print(f'Mamy {num_sequences} zdań i {len(word_to_idx)} unikatowych tokenów.\\n')\n",
        "print('Indeks \\'b\\' to', word_to_idx['b'])\n",
        "print(f'Odpowiednik słowa dla indeksu 1 to \\'{idx_to_word[1]}\\'')\n",
        "\n",
        "assert idx_to_word[word_to_idx['b']] == 'b', \\\n",
        "    'Błąd: sprawdź implementacje.'"
      ]
    },
    {
      "cell_type": "markdown",
      "id": "74e5f06c-88c3-402a-abe6-83bd13f8f657",
      "metadata": {
        "id": "74e5f06c-88c3-402a-abe6-83bd13f8f657"
      },
      "source": [
        "## Partycjonowanie zbioru danych\n",
        "\n",
        "Aby zbudować nasz zbiór danych, musimy stworzyć dane wejściowe i cele dla każdej sekwencji i podzielić je na zbiory treningowe, walidacyjne i testowe. 80%, 10% i 10% to powszechny rozkład, ale pamiętaj, że zależy to w dużej mierze od rozmiaru zbioru danych. Ponieważ przewidujemy następne słowo, naszą sekwencją docelową jest po prostu sekwencja wejściowa przesunięta o jedno słowo. Wykorzystujemy tutaj klasę `Dateset` z`Torch` patrz [tutorial](https://pytorch.org/tutorials/beginner/data_loading_tutorial.html).\n"
      ]
    },
    {
      "cell_type": "code",
      "execution_count": 3,
      "id": "2f0aef05-27cc-484f-8da1-6043ca88a05a",
      "metadata": {
        "colab": {
          "base_uri": "https://localhost:8080/"
        },
        "id": "2f0aef05-27cc-484f-8da1-6043ca88a05a",
        "outputId": "7c2bc9b2-2158-4387-ac2f-1cd2e3a51d1d"
      },
      "outputs": [
        {
          "name": "stdout",
          "output_type": "stream",
          "text": [
            "256\n",
            "Mamy 204 próbek w zbiorze treningowym.\n",
            "Mamy 25 próbek w zbiorze walidacyjnym.\n",
            "Mamy 27 próbek w zbiorze testowym.\n"
          ]
        }
      ],
      "source": [
        "from torch.utils import data\n",
        "\n",
        "class Dataset(data.Dataset):\n",
        "    def __init__(self, inputs, targets):\n",
        "        self.inputs = inputs\n",
        "        self.targets = targets\n",
        "\n",
        "    def __len__(self):\n",
        "        return len(self.targets)\n",
        "\n",
        "    def __getitem__(self, index):\n",
        "        X = self.inputs[index]\n",
        "        y = self.targets[index]\n",
        "        return X, y\n",
        "\n",
        "\n",
        "def create_datasets(sequences, dataset_class, p_train=0.8, p_val=0.1, p_test=0.1):\n",
        "    num_train = int(len(sequences)*p_train)\n",
        "    num_val = int(len(sequences)*p_val)\n",
        "    num_test = int(len(sequences)*p_test)\n",
        "\n",
        "\n",
        "    # TUTAJ TWOJ KOD!\n",
        "    sequences_train = sequences[:num_train]\n",
        "    sequences_val = sequences[num_train:num_train + num_val]\n",
        "    sequences_test = sequences[num_train + num_val:]\n",
        "\n",
        "    def get_inputs_targets_from_sequences(sequences):\n",
        "        inputs, targets = [], []\n",
        "        for sequence in sequences:\n",
        "            inputs.append(sequence[:-1])\n",
        "            targets.append(sequence[1:])\n",
        "        return inputs, targets\n",
        "\n",
        "    inputs_train, targets_train = get_inputs_targets_from_sequences(sequences_train)\n",
        "    inputs_val, targets_val = get_inputs_targets_from_sequences(sequences_val)\n",
        "    inputs_test, targets_test = get_inputs_targets_from_sequences(sequences_test)\n",
        "\n",
        "    training_set = dataset_class(inputs_train, targets_train)\n",
        "    validation_set = dataset_class(inputs_val, targets_val)\n",
        "    test_set = dataset_class(inputs_test, targets_test)\n",
        "\n",
        "    return training_set, validation_set, test_set\n",
        "\n",
        "\n",
        "training_set, validation_set, test_set = create_datasets(sequences, Dataset)\n",
        "\n",
        "print(len(sequences))\n",
        "print(f'Mamy {len(training_set)} próbek w zbiorze treningowym.')\n",
        "print(f'Mamy {len(validation_set)} próbek w zbiorze walidacyjnym.')\n",
        "print(f'Mamy {len(test_set)} próbek w zbiorze testowym.')"
      ]
    },
    {
      "cell_type": "markdown",
      "id": "2323ee01-4720-4b20-8c13-de1595de00d8",
      "metadata": {
        "id": "2323ee01-4720-4b20-8c13-de1595de00d8"
      },
      "source": [
        "## Kodowanie One-Hot\n",
        "\n",
        "Tworzymy teraz prostą funkcję, która zwraca zakodowaną w jednym miejscu reprezentację danego indeksu słowa w naszym słowniku. Zauważ, że wymiar kodowania one-hot jest równy całemu słownikowi (który może być ogromny!). Dodatkowo definiujemy funkcję automatycznego kodowania zdania na one-hot."
      ]
    },
    {
      "cell_type": "code",
      "execution_count": 4,
      "id": "2ace04e2-ba9e-4eb9-ac10-76fa5ae11163",
      "metadata": {
        "colab": {
          "base_uri": "https://localhost:8080/"
        },
        "id": "2ace04e2-ba9e-4eb9-ac10-76fa5ae11163",
        "outputId": "f4c0c6f3-0c96-462d-d9eb-efe1eafeb830"
      },
      "outputs": [
        {
          "name": "stdout",
          "output_type": "stream",
          "text": [
            "Nasze kodowanie one-hot słowo 'a' ma wymiar (4,).\n",
            "Nasze kodowanie one-hot zdania 'a b' ma wymiar (2, 4, 1).\n"
          ]
        }
      ],
      "source": [
        "def one_hot_encode(idx, vocab_size):\n",
        "    one_hot = np.zeros(vocab_size)\n",
        "    # TUTAJ TWOD KOD!\n",
        "    one_hot[idx] = 1\n",
        "    return one_hot\n",
        "\n",
        "\n",
        "def one_hot_encode_sequence(sequence, vocab_size):\n",
        "    encoding = np.array([one_hot_encode(word_to_idx[word], vocab_size) for word in sequence])\n",
        "    encoding = encoding.reshape(encoding.shape[0], encoding.shape[1], 1)\n",
        "    return encoding\n",
        "\n",
        "test_word = one_hot_encode(word_to_idx['a'], vocab_size)\n",
        "print(f'Nasze kodowanie one-hot słowo \\'a\\' ma wymiar {test_word.shape}.')\n",
        "\n",
        "test_sentence = one_hot_encode_sequence(['a', 'b'], vocab_size)\n",
        "print(f'Nasze kodowanie one-hot zdania \\'a b\\' ma wymiar {test_sentence.shape}.')"
      ]
    },
    {
      "cell_type": "markdown",
      "id": "0930da3c-f0b6-4083-906a-01b24c092bcf",
      "metadata": {
        "id": "0930da3c-f0b6-4083-906a-01b24c092bcf"
      },
      "source": [
        "## Rekurencyjne Sieci Neuronowe RNN\n",
        "\n",
        "Sieć definiujemy podobnie jak na wykładzie dla wygody zmienimy tylko trochę nazwy wag.\n",
        "Sieć zawiera następujące elementy:\n",
        "\n",
        "- $x$ to sekwencja wejściowa próbek,\n",
        "- $U$ to macierz wag zastosowana do danej próbki wejściowej,\n",
        "- $V$ to macierz wag używana do obliczeń rekurencyjnych w celu przekazania pamięci wzdłuż sekwencji,\n",
        "- $W$ to macierz wag używana do obliczania wyniku każdego kroku czasowego (biorąc pod uwagę, że każdy krok czasowy wymaga wyjścia),\n",
        "- $h$ to stan ukryty (pamięć sieci) dla danego kroku czasowego, oraz\n",
        "- $o$ to wynikowy wynik.\n",
        "\n",
        "Sieć wykonujemy następujące obliczenia\n",
        "\n",
        "- $h_t = f(U\\,{x_t} + V\\,{h_{t-1}})$, gdzie $f$ jest nieliniową funkcją aktywacji, np. $\\mathrm{tanh}$.\n",
        "- $o_t = W\\,{h_t}$\n",
        "\n",
        "Kiedy modelujemy język przy użyciu straty entropii krzyżowej, dodatkowo stosujemy funkcję softmax do wyniku $o_{t}$:\n",
        "\n",
        "- $\\hat{y}_t = \\mathrm{softmax}(o_{t})$"
      ]
    },
    {
      "cell_type": "markdown",
      "id": "e36672f2-e128-465d-990e-fce238dd4445",
      "metadata": {
        "id": "e36672f2-e128-465d-990e-fce238dd4445"
      },
      "source": [
        "## Implementacja RNN"
      ]
    },
    {
      "cell_type": "code",
      "execution_count": 7,
      "id": "cd5aa46d-00df-4f0e-a243-27976225af71",
      "metadata": {
        "colab": {
          "base_uri": "https://localhost:8080/"
        },
        "id": "cd5aa46d-00df-4f0e-a243-27976225af71",
        "outputId": "c40b1d38-958f-4bc1-ea78-cd3d93ca9ee6"
      },
      "outputs": [
        {
          "name": "stdout",
          "output_type": "stream",
          "text": [
            "U: (50, 4)\n",
            "V: (50, 50)\n",
            "W: (4, 50)\n",
            "b_hidden: (50, 1)\n",
            "b_out: (4, 1)\n"
          ]
        }
      ],
      "source": [
        "hidden_size = 50\n",
        "vocab_size  = len(word_to_idx)\n",
        "\n",
        "# Bardzo ważne dla sieci rekurencyjnych!\n",
        "# https://arxiv.org/abs/1312.6120\n",
        "def init_orthogonal(param):\n",
        "    rows, cols = param.shape\n",
        "    new_param = np.random.randn(rows, cols)\n",
        "    if rows < cols:\n",
        "        new_param = new_param.T\n",
        "    q, r = np.linalg.qr(new_param)\n",
        "    d = np.diag(r, 0)\n",
        "    ph = np.sign(d)\n",
        "    q *= ph\n",
        "    if rows < cols:\n",
        "        q = q.T\n",
        "    new_param = q\n",
        "    return new_param\n",
        "\n",
        "def init_rnn(hidden_size, vocab_size):\n",
        "    # TWOJ KOD TUTAJ!\n",
        "    U = np.zeros((hidden_size, vocab_size))\n",
        "\n",
        "    # TWOJ KOD TUTAJ!\n",
        "    V = np.zeros((hidden_size, hidden_size))\n",
        "\n",
        "    # TWOJ KOD TUTAJ!\n",
        "    W = np.zeros((vocab_size, hidden_size))\n",
        "\n",
        "    # TWOJ KOD TUTAJ!\n",
        "    b_hidden = np.zeros((hidden_size, 1))\n",
        "\n",
        "    # TWOJ KOD TUTAJ!\n",
        "    b_out = np.zeros((vocab_size, 1))\n",
        "\n",
        "    U = init_orthogonal(U)\n",
        "    V = init_orthogonal(V)\n",
        "    W = init_orthogonal(W)\n",
        "\n",
        "# Zobacz jak będzie się uczyła sieć jak wykorzystamy prostą inicjalizację\n",
        "# przez rozkład jednostajny! lub normalny (randn)\n",
        "#    U = np.random.rand(*U.shape)\n",
        "#    V = np.random.rand(*V.shape)\n",
        "#    W = np.random.rand(*W.shape)\n",
        "\n",
        "    return U, V, W, b_hidden, b_out\n",
        "\n",
        "\n",
        "params = init_rnn(hidden_size=hidden_size, vocab_size=vocab_size)\n",
        "print('U:', params[0].shape)\n",
        "print('V:', params[1].shape)\n",
        "print('W:', params[2].shape)\n",
        "print('b_hidden:', params[3].shape)\n",
        "print('b_out:', params[4].shape)\n",
        "\n",
        "for param in params:\n",
        "    assert param.ndim == 2, \\\n",
        "        'wszystkie parametry powinny być 2-wymiarowe'"
      ]
    },
    {
      "cell_type": "markdown",
      "id": "8165c979-f4ca-4a24-bf43-d642d4a0cc5f",
      "metadata": {
        "id": "8165c979-f4ca-4a24-bf43-d642d4a0cc5f"
      },
      "source": [
        "## Wprowadźmy znane funkcje aktywacji"
      ]
    },
    {
      "cell_type": "code",
      "execution_count": 8,
      "id": "686223ea-292a-45f8-884c-89e50d97de1e",
      "metadata": {
        "id": "686223ea-292a-45f8-884c-89e50d97de1e"
      },
      "outputs": [],
      "source": [
        "def sigmoid(x, derivative=False):\n",
        "    x_safe = x + 1e-12\n",
        "    f = 1 / (1 + np.exp(-x_safe))\n",
        "    if derivative:\n",
        "        return f * (1 - f)\n",
        "    else:\n",
        "        return f\n",
        "\n",
        "def tanh(x, derivative=False):\n",
        "    x_safe = x + 1e-12\n",
        "    f = (np.exp(x_safe)-np.exp(-x_safe))/(np.exp(x_safe)+np.exp(-x_safe))\n",
        "    if derivative:\n",
        "        return 1-f**2\n",
        "    else:\n",
        "        return f\n",
        "\n",
        "def softmax(x, derivative=False):\n",
        "    x_safe = x + 1e-12\n",
        "    f = np.exp(x_safe) / np.sum(np.exp(x_safe))\n",
        "    if derivative:\n",
        "        pass\n",
        "    else:\n",
        "        return f"
      ]
    },
    {
      "cell_type": "markdown",
      "id": "19dabb02-d199-4197-a3fa-51d08339d94b",
      "metadata": {
        "id": "19dabb02-d199-4197-a3fa-51d08339d94b"
      },
      "source": [
        "## Implementacja funkcji `forward`"
      ]
    },
    {
      "cell_type": "code",
      "execution_count": 9,
      "id": "50eec094-9788-4497-80e4-e0fb2abb9b0b",
      "metadata": {
        "colab": {
          "base_uri": "https://localhost:8080/"
        },
        "id": "50eec094-9788-4497-80e4-e0fb2abb9b0b",
        "outputId": "e76766d6-fcf2-43a2-a669-111e99a81644"
      },
      "outputs": [
        {
          "name": "stdout",
          "output_type": "stream",
          "text": [
            "Ciąg wejściowy:\n",
            "['a', 'a', 'a', 'a', 'a', 'a', 'a', 'b', 'b', 'b', 'b', 'b', 'b', 'b']\n",
            "\n",
            "Ciąg wyjściowy:\n",
            "['a', 'a', 'a', 'a', 'a', 'a', 'b', 'b', 'b', 'b', 'b', 'b', 'b', 'EOS']\n",
            "\n",
            "Ciąg przewidziany:\n",
            "['a', 'b', 'b', 'a', 'b', 'a', 'b', 'UNK', 'UNK', 'UNK', 'UNK', 'UNK', 'UNK', 'UNK']\n"
          ]
        }
      ],
      "source": [
        "def forward_pass(inputs, hidden_state, params):\n",
        "\n",
        "    U, V, W, b_hidden, b_out = params\n",
        "    outputs, hidden_states = [], []\n",
        "\n",
        "    for t in range(len(inputs)):\n",
        "        x_t = inputs[t].reshape(-1, 1)\n",
        "\n",
        "        # Oblicz nowy stan ukryty\n",
        "        # TWOJ KOD TUTAJ!\n",
        "        hidden_state = tanh(np.dot(U, x_t) + np.dot(V, hidden_state) + b_hidden)\n",
        "\n",
        "        # Oblicz wyjście\n",
        "        # TWOJ KOD TUTAJ!\n",
        "        out = softmax(np.dot(W, hidden_state) + b_out)\n",
        "\n",
        "        outputs.append(out)\n",
        "        hidden_states.append(hidden_state.copy())\n",
        "\n",
        "    return outputs, hidden_states\n",
        "\n",
        "test_input_sequence, test_target_sequence = training_set[0]\n",
        "\n",
        "test_input = one_hot_encode_sequence(test_input_sequence, vocab_size)\n",
        "test_target = one_hot_encode_sequence(test_target_sequence, vocab_size)\n",
        "\n",
        "hidden_state = np.zeros((hidden_size, 1))\n",
        "\n",
        "outputs, hidden_states = forward_pass(test_input, hidden_state, params)\n",
        "\n",
        "print('Ciąg wejściowy:')\n",
        "print(test_input_sequence)\n",
        "\n",
        "print('\\nCiąg wyjściowy:')\n",
        "print(test_target_sequence)\n",
        "\n",
        "print('\\nCiąg przewidziany:')\n",
        "print([idx_to_word[np.argmax(output)] for output in outputs])"
      ]
    },
    {
      "cell_type": "markdown",
      "id": "db8b77e1-1f33-4daf-bb82-e39de1b41a88",
      "metadata": {
        "id": "db8b77e1-1f33-4daf-bb82-e39de1b41a88"
      },
      "source": [
        "## Implementacja funkcji `backward`"
      ]
    },
    {
      "cell_type": "code",
      "execution_count": 10,
      "id": "82caa067-35de-4564-9d05-6c6506f752a6",
      "metadata": {
        "colab": {
          "base_uri": "https://localhost:8080/"
        },
        "id": "82caa067-35de-4564-9d05-6c6506f752a6",
        "outputId": "d7a87344-959f-47fe-b27e-063fade8ef10"
      },
      "outputs": [
        {
          "name": "stdout",
          "output_type": "stream",
          "text": [
            "Loss:\n",
            "[19.07691471]\n"
          ]
        }
      ],
      "source": [
        "def clip_gradient_norm(grads, max_norm=0.25):\n",
        "    max_norm = float(max_norm)\n",
        "    total_norm = 0\n",
        "    for grad in grads:\n",
        "        grad_norm = np.sum(np.power(grad, 2))\n",
        "        total_norm += grad_norm\n",
        "    total_norm = np.sqrt(total_norm)\n",
        "    clip_coef = max_norm / (total_norm + 1e-6)\n",
        "    if clip_coef < 1:\n",
        "        for grad in grads:\n",
        "            grad *= clip_coef\n",
        "    return grads\n",
        "\n",
        "\n",
        "def backward_pass(inputs, outputs, hidden_states, targets, params):\n",
        "    U, V, W, b_hidden, b_out = params\n",
        "\n",
        "    d_U, d_V, d_W = np.zeros_like(U), np.zeros_like(V), np.zeros_like(W)\n",
        "    d_b_hidden, d_b_out = np.zeros_like(b_hidden), np.zeros_like(b_out)\n",
        "\n",
        "    d_h_next = np.zeros_like(hidden_states[0])\n",
        "    loss = 0\n",
        "\n",
        "    for t in reversed(range(len(outputs))):\n",
        "\n",
        "        # Oblicz stratę entropii krzyżowej (jako skalar)\n",
        "        # Podczas obliczania logarytmów dobrym pomysłem jest dodanie małej stałej (np. 1e-9)\n",
        "        # TWÓJ KOD TUTAJ!\n",
        "        loss += -np.log(outputs[t][np.argmax(targets[t])] + 1e-9)\n",
        "\n",
        "        # Propaguj wstecznie na wyjście (pochodna entropii krzyżowej)\n",
        "        d_o = outputs[t].copy()\n",
        "        d_o[np.argmax(targets[t])] -= 1\n",
        "\n",
        "        # Propaguj wstecznie na W\n",
        "        # TWOJ KOD TUTAJ!\n",
        "        d_W += np.dot(d_o, hidden_states[t].T)\n",
        "        d_b_out += d_o\n",
        "\n",
        "        # Propaguj wstecznie do h\n",
        "        d_h = np.dot(W.T, d_o) + d_h_next\n",
        "\n",
        "        d_f = (1 - hidden_states[t]**2) * d_h\n",
        "        d_b_hidden += d_f\n",
        "\n",
        "        # Propaguj wstecznie do U\n",
        "        # TWOJ KOD TUTAJ!\n",
        "        d_U += np.dot(d_f, inputs[t].T)\n",
        "\n",
        "        # Propaguj wstecznie do V\n",
        "        # TWOJ KOD TUTAJ!\n",
        "        d_V += np.dot(d_f, hidden_states[t-1].T) if t>0 else np.dot(d_f, np.zeros_like(hidden_states[t]).T)\n",
        "        d_h_next = np.dot(V.T, d_f)\n",
        "\n",
        "    grads = d_U, d_V, d_W, d_b_hidden, d_b_out\n",
        "\n",
        "    grads = clip_gradient_norm(grads)\n",
        "\n",
        "    return loss, grads\n",
        "\n",
        "\n",
        "loss, grads = backward_pass(test_input, outputs, hidden_states, test_target, params)\n",
        "\n",
        "print('Loss:')\n",
        "print(loss)"
      ]
    },
    {
      "cell_type": "markdown",
      "id": "ab941eb6-ac84-474d-9e16-4e6dfc10970f",
      "metadata": {
        "id": "ab941eb6-ac84-474d-9e16-4e6dfc10970f"
      },
      "source": [
        "Teraz, gdy możemy wykonywać przejścia `forward` i obliczać gradienty za pomocą propagacji wstecznej `backward`, jesteśmy gotowi do uczenia naszej sieci. Do tego będziemy potrzebować optymalizatora. Powszechną i łatwą do wdrożenia metodą optymalizacji jest stochastyczne opadanie gradientu (SGD), które ma regułę aktualizacji: $\\theta_{n+1} = \\theta_{n} - \\eta \\frac{\\partial E}{\\partial \\ theta_{n}}$, gdzie $\\eta$ to szybkość uczenia się, a $E$ to nasza funkcja kosztu [zobacz](https://arxiv.org/abs/1609.04747)."
      ]
    },
    {
      "cell_type": "code",
      "execution_count": 11,
      "id": "1eb6bd5a-dfd9-4cbc-bb2d-d698668dd0b6",
      "metadata": {
        "id": "1eb6bd5a-dfd9-4cbc-bb2d-d698668dd0b6"
      },
      "outputs": [],
      "source": [
        "def update_parameters(params, grads, lr=1e-3):\n",
        "    for param, grad in zip(params, grads):\n",
        "        param -= lr * grad\n",
        "    return params"
      ]
    },
    {
      "cell_type": "code",
      "execution_count": 12,
      "id": "61bc1fb4-6397-4ae1-93fe-37f7acccb6ee",
      "metadata": {
        "colab": {
          "base_uri": "https://localhost:8080/",
          "height": 761
        },
        "id": "61bc1fb4-6397-4ae1-93fe-37f7acccb6ee",
        "outputId": "0e65b5c1-8c4a-4bca-ae92-6c56cafa0aec"
      },
      "outputs": [
        {
          "name": "stdout",
          "output_type": "stream",
          "text": [
            "Epoch 0, training loss: [15.28708454], validation loss: [16.14418591]\n",
            "Epoch 100, training loss: [5.88048572], validation loss: [6.26517689]\n",
            "Epoch 200, training loss: [4.44701848], validation loss: [4.77864153]\n",
            "Epoch 300, training loss: [4.10654014], validation loss: [4.43399249]\n",
            "Epoch 400, training loss: [3.56948157], validation loss: [3.81182369]\n",
            "Epoch 500, training loss: [3.46432315], validation loss: [3.60778729]\n",
            "Epoch 600, training loss: [3.24199698], validation loss: [3.38295183]\n",
            "Epoch 700, training loss: [3.10523766], validation loss: [3.23459928]\n",
            "Epoch 800, training loss: [2.99806086], validation loss: [3.15228992]\n",
            "Epoch 900, training loss: [2.93881598], validation loss: [3.11491576]\n",
            "Ciąg wejściowy:\n",
            "['a', 'a', 'a', 'b', 'b', 'b']\n",
            "\n",
            "Ciąg wyjściowy:\n",
            "['a', 'a', 'b', 'b', 'b', 'EOS']\n",
            "\n",
            "Ciąg przewidziany:\n",
            "['a', 'a', 'a', 'b', 'b', 'EOS']\n"
          ]
        },
        {
          "data": {
            "image/png": "[encoded data removed]",
            "text/plain": [
              "<Figure size 640x480 with 1 Axes>"
            ]
          },
          "metadata": {},
          "output_type": "display_data"
        }
      ],
      "source": [
        "import matplotlib.pyplot as plt\n",
        "%matplotlib inline\n",
        "from sklearn.utils import shuffle\n",
        "\n",
        "# Hyper-parameters\n",
        "num_epochs = 1000\n",
        "\n",
        "params = init_rnn(hidden_size=hidden_size, vocab_size=vocab_size)\n",
        "hidden_state = np.zeros((hidden_size, 1))\n",
        "training_loss, validation_loss = [], []\n",
        "\n",
        "for i in range(num_epochs):\n",
        "\n",
        "    epoch_training_loss = 0\n",
        "    epoch_validation_loss = 0\n",
        "\n",
        "    validation_set.inputs, validation_set.targets = shuffle(validation_set.inputs, validation_set.targets, random_state=0)\n",
        "    for inputs, targets in validation_set:\n",
        "        inputs_one_hot = one_hot_encode_sequence(inputs, vocab_size)\n",
        "        targets_one_hot = one_hot_encode_sequence(targets, vocab_size)\n",
        "        hidden_state = np.zeros_like(hidden_state)\n",
        "\n",
        "        # Forward pass\n",
        "        # TWOJ KOD TUTAJ!\n",
        "        outputs, hidden_states = forward_pass(inputs_one_hot, hidden_state, params)\n",
        "\n",
        "        # Backward pass\n",
        "        # TWOJ KOD TUTAJ!\n",
        "        loss, _ = backward_pass(inputs_one_hot, outputs, hidden_states, targets_one_hot, params)\n",
        "\n",
        "        epoch_validation_loss += loss\n",
        "\n",
        "    training_set.inputs, training_set.targets = shuffle(training_set.inputs, training_set.targets, random_state=0)\n",
        "    for inputs, targets in training_set:\n",
        "        inputs_one_hot = one_hot_encode_sequence(inputs, vocab_size)\n",
        "        targets_one_hot = one_hot_encode_sequence(targets, vocab_size)\n",
        "        hidden_state = np.zeros_like(hidden_state)\n",
        "\n",
        "        # Forward pass\n",
        "        # TWOJ KOD TUTAJ!\n",
        "        outputs, hidden_states = forward_pass(inputs_one_hot, hidden_state, params)\n",
        "\n",
        "        # Backward pass\n",
        "        # TWOJ KOD TUTAJ!\n",
        "        loss, grads = backward_pass(inputs_one_hot, outputs, hidden_states, targets_one_hot, params)\n",
        "\n",
        "        if np.isnan(loss):\n",
        "            raise ValueError('Gradient zanikł/eksplodował!')\n",
        "\n",
        "        # Update parameters\n",
        "        # TWOJ KOD TUTAJ!\n",
        "        params = update_parameters(params, grads, lr=1e-3)\n",
        "\n",
        "        epoch_training_loss += loss\n",
        "\n",
        "    training_loss.append(epoch_training_loss/len(training_set))\n",
        "    validation_loss.append(epoch_validation_loss/len(validation_set))\n",
        "\n",
        "    if i % 100 == 0:\n",
        "        print(f'Epoch {i}, training loss: {training_loss[-1]}, validation loss: {validation_loss[-1]}')\n",
        "\n",
        "\n",
        "inputs, targets = test_set[1]\n",
        "\n",
        "inputs_one_hot = one_hot_encode_sequence(inputs, vocab_size)\n",
        "targets_one_hot = one_hot_encode_sequence(targets, vocab_size)\n",
        "hidden_state = np.zeros((hidden_size, 1))\n",
        "\n",
        "# Forward pass\n",
        "outputs, hidden_states = forward_pass(inputs_one_hot, hidden_state, params)\n",
        "output_sentence = [idx_to_word[np.argmax(output)] for output in outputs]\n",
        "print('Ciąg wejściowy:')\n",
        "print(inputs)\n",
        "\n",
        "print('\\nCiąg wyjściowy:')\n",
        "print(targets)\n",
        "\n",
        "print('\\nCiąg przewidziany:')\n",
        "print([idx_to_word[np.argmax(output)] for output in outputs])\n",
        "\n",
        "epoch = np.arange(len(training_loss))\n",
        "plt.figure()\n",
        "plt.plot(epoch, training_loss, 'r', label='Training loss',)\n",
        "plt.plot(epoch, validation_loss, 'b', label='Validation loss')\n",
        "plt.legend()\n",
        "plt.xlabel('Epoch'), plt.ylabel('NLL')\n",
        "plt.show()\n"
      ]
    },
    {
      "cell_type": "markdown",
      "id": "341611b5-1f07-4b61-95be-f7f32bca95de",
      "metadata": {
        "id": "341611b5-1f07-4b61-95be-f7f32bca95de"
      },
      "source": [
        "Poprawna implementacja powinna uzyskać stratę około **4** (przy sumie CE) po 1000 epok."
      ]
    },
    {
      "cell_type": "markdown",
      "id": "b84fd0cf-9a9a-4463-b355-88269eacb8b1",
      "metadata": {
        "id": "b84fd0cf-9a9a-4463-b355-88269eacb8b1"
      },
      "source": [
        "Teraz, gdy wyszkoliliśmy RNN, czas wystawić go na próbę. Dostarczymy sieci zdanie startowe i zobaczmy jak sobie poradzi!"
      ]
    },
    {
      "cell_type": "code",
      "execution_count": 13,
      "id": "3ff2488c-e0d0-49a4-adb8-dd984d38832b",
      "metadata": {
        "colab": {
          "base_uri": "https://localhost:8080/",
          "height": 373
        },
        "id": "3ff2488c-e0d0-49a4-adb8-dd984d38832b",
        "outputId": "cc07ee3b-2b51-49d5-8842-90c34b98ff03"
      },
      "outputs": [
        {
          "name": "stdout",
          "output_type": "stream",
          "text": [
            "Przykład 0: a a b\n",
            "Przewidziany ciąg: ['a', 'a', 'b', 'b', 'EOS']\n",
            "\n",
            "Przykład 1: a a a a b\n",
            "Przewidziany ciąg: ['a', 'a', 'a', 'a', 'b', 'b', 'b', 'b', 'EOS']\n",
            "\n",
            "Przykład 2: a a a a a a b\n",
            "Przewidziany ciąg: ['a', 'a', 'a', 'a', 'a', 'a', 'b', 'b', 'b', 'b', 'b', 'b', 'EOS']\n",
            "\n",
            "Przykład 3: a\n",
            "Przewidziany ciąg: ['a', 'a', 'a', 'b', 'EOS']\n",
            "\n",
            "Przykład 4: r n n\n",
            "Przewidziany ciąg: ['r', 'n', 'n', 'EOS', 'EOS']\n",
            "\n"
          ]
        }
      ],
      "source": [
        "def generate(params, sentence='', num_generate=10):\n",
        "    sentence = sentence.split(' ')\n",
        "    sentence_one_hot = one_hot_encode_sequence(sentence, vocab_size)\n",
        "    hidden_state = np.zeros((hidden_size, 1))\n",
        "    outputs, hidden_states = forward_pass(sentence_one_hot, hidden_state, params)\n",
        "    output_sentence = sentence\n",
        "    word = idx_to_word[np.argmax(outputs[-1])]\n",
        "    output_sentence.append(word)\n",
        "    for i in range(num_generate):\n",
        "        output = outputs[-1]\n",
        "        hidden_state = hidden_states[-1]\n",
        "        output = output.reshape(1, output.shape[0], output.shape[1])\n",
        "        outputs, hidden_states = forward_pass(output, hidden_state, params)\n",
        "        word = idx_to_word[np.argmax(outputs)]\n",
        "        output_sentence.append(word)\n",
        "        if word == 'EOS':\n",
        "            break\n",
        "    return output_sentence\n",
        "\n",
        "\n",
        "test_examples = ['a a b', 'a a a a b', 'a a a a a a b', 'a', 'r n n']\n",
        "for i, test_example in enumerate(test_examples):\n",
        "    print(f'Przykład {i}:', test_example)\n",
        "    print('Przewidziany ciąg:', generate(params, sentence=test_example), end='\\n\\n')"
      ]
    },
    {
      "cell_type": "markdown",
      "id": "1fbbcf73-66ce-4ed2-b222-ca29e765fe14",
      "metadata": {
        "id": "1fbbcf73-66ce-4ed2-b222-ca29e765fe14"
      },
      "source": [
        "## Implementacja PyTorch\n",
        "\n",
        "Zrobimy teraz taką samą sieć z wykorzystaniem PyTorcha"
      ]
    },
    {
      "cell_type": "code",
      "execution_count": 15,
      "id": "0936d6c3-2622-4da7-b4ae-d0396b18ab84",
      "metadata": {
        "colab": {
          "base_uri": "https://localhost:8080/"
        },
        "id": "0936d6c3-2622-4da7-b4ae-d0396b18ab84",
        "outputId": "5e8c1b1a-9b2c-4db1-a201-7b78e5639eea"
      },
      "outputs": [
        {
          "name": "stdout",
          "output_type": "stream",
          "text": [
            "MyRecurrentNet(\n",
            "  (rnn): RNN(4, 50)\n",
            "  (l_out): Linear(in_features=50, out_features=4, bias=False)\n",
            ")\n"
          ]
        }
      ],
      "source": [
        "import torch\n",
        "import torch.nn as nn\n",
        "import torch.nn.functional as F\n",
        "\n",
        "class MyRecurrentNet(nn.Module):\n",
        "    def __init__(self):\n",
        "        super(MyRecurrentNet, self).__init__()\n",
        "\n",
        "        # Recurrent layer\n",
        "        # TWOJ KOD TUTAJ!\n",
        "        self.rnn = nn.RNN(input_size=vocab_size,   # Input size is the vocab size for one-hot vectors\n",
        "                          hidden_size=50)          # Hidden size as defined before\n",
        "\n",
        "        # Output layer\n",
        "        self.l_out = nn.Linear(in_features=50,\n",
        "                            out_features=vocab_size,\n",
        "                            bias=False)\n",
        "\n",
        "    def forward(self, x):\n",
        "        x, h = self.rnn(x)\n",
        "        x = x.view(-1, self.rnn.hidden_size)\n",
        "        x = self.l_out(x)\n",
        "        return x\n",
        "\n",
        "net = MyRecurrentNet()\n",
        "print(net)"
      ]
    },
    {
      "cell_type": "code",
      "execution_count": 16,
      "id": "eb174af1-de6e-43ab-ab12-bff969415159",
      "metadata": {
        "colab": {
          "base_uri": "https://localhost:8080/",
          "height": 952
        },
        "id": "eb174af1-de6e-43ab-ab12-bff969415159",
        "outputId": "3db8c217-7c89-405d-909a-ed785ba832e7"
      },
      "outputs": [
        {
          "name": "stdout",
          "output_type": "stream",
          "text": [
            "Epoch 0, training loss: 0.8631031673912909, validation loss: 1.390167064666748\n",
            "Epoch 10, training loss: 0.30290118268891875, validation loss: 0.2901147884130478\n",
            "Epoch 20, training loss: 0.29792609262992353, validation loss: 0.2896660178899765\n",
            "Epoch 30, training loss: 0.29548410187457125, validation loss: 0.28762102603912354\n",
            "Epoch 40, training loss: 0.2950454297311166, validation loss: 0.2860508626699448\n",
            "Epoch 50, training loss: 0.29412681499824805, validation loss: 0.28527048110961917\n",
            "Epoch 60, training loss: 0.293297236091366, validation loss: 0.28552781462669374\n",
            "Epoch 70, training loss: 0.29294345907720865, validation loss: 0.28453906953334807\n",
            "Epoch 80, training loss: 0.2922154945485732, validation loss: 0.28462246656417844\n",
            "Epoch 90, training loss: 0.29204846933191897, validation loss: 0.28544787406921385\n",
            "Epoch 100, training loss: 0.2918762317036881, validation loss: 0.2861586558818817\n",
            "Epoch 110, training loss: 0.29130974470400345, validation loss: 0.28554964005947114\n",
            "Epoch 120, training loss: 0.29078979249678405, validation loss: 0.28331461548805237\n",
            "Epoch 130, training loss: 0.2904241619741215, validation loss: 0.2827568107843399\n",
            "Epoch 140, training loss: 0.29234950573128815, validation loss: 0.28224383652210233\n",
            "Epoch 150, training loss: 0.2904375039187132, validation loss: 0.28197315156459807\n",
            "Epoch 160, training loss: 0.2900291229872143, validation loss: 0.28151353359222414\n",
            "Epoch 170, training loss: 0.28952926915942456, validation loss: 0.2793389350175858\n",
            "Epoch 180, training loss: 0.3877300093425255, validation loss: 0.42192344188690184\n",
            "Epoch 190, training loss: 0.28938014220957664, validation loss: 0.2790154016017914\n",
            "\n",
            "Ciąg wejściowy:\n",
            "['a', 'a', 'a', 'b', 'b', 'b']\n",
            "\n",
            "Ciąg wyjściowy:\n",
            "['a', 'a', 'b', 'b', 'b', 'EOS']\n",
            "\n",
            "Ciąg przewidziany:\n",
            "['a', 'a', 'a', 'b', 'b', 'EOS']\n"
          ]
        },
        {
          "data": {
            "image/png": "[encoded data removed]",
            "text/plain": [
              "<Figure size 640x480 with 1 Axes>"
            ]
          },
          "metadata": {},
          "output_type": "display_data"
        }
      ],
      "source": [
        "# Hyper-parameters\n",
        "num_epochs = 200\n",
        "\n",
        "net = MyRecurrentNet()\n",
        "\n",
        "# Zdefiniuj funkcję straty i optymalizator dla tego problemu\n",
        "# TWOJ KOD TUTAJ!\n",
        "criterion = nn.CrossEntropyLoss()\n",
        "optimizer = torch.optim.Adam(net.parameters(), lr=1e-3)\n",
        "\n",
        "training_loss, validation_loss = [], []\n",
        "\n",
        "for i in range(num_epochs):\n",
        "\n",
        "    epoch_training_loss = 0\n",
        "    epoch_validation_loss = 0\n",
        "\n",
        "    net.eval()\n",
        "\n",
        "    for inputs, targets in validation_set:\n",
        "        inputs_one_hot = one_hot_encode_sequence(inputs, vocab_size)\n",
        "        targets_idx = [word_to_idx[word] for word in targets]\n",
        "        inputs_one_hot = torch.Tensor(inputs_one_hot)\n",
        "        inputs_one_hot = inputs_one_hot.permute(0, 2, 1)\n",
        "        targets_idx = torch.LongTensor(targets_idx)\n",
        "\n",
        "        # Forward pass\n",
        "        # TWOJ KOD TUTAJ!\n",
        "        outputs =net(inputs_one_hot)\n",
        "\n",
        "        # Compute loss\n",
        "        # TWOJ KOD TUTAJ!\n",
        "        loss = criterion(outputs, targets_idx.view(-1))\n",
        "\n",
        "        epoch_validation_loss += loss.detach().numpy()\n",
        "\n",
        "    net.train()\n",
        "\n",
        "    for inputs, targets in training_set:\n",
        "\n",
        "        inputs_one_hot = one_hot_encode_sequence(inputs, vocab_size)\n",
        "        targets_idx = [word_to_idx[word] for word in targets]\n",
        "        inputs_one_hot = torch.Tensor(inputs_one_hot)\n",
        "        inputs_one_hot = inputs_one_hot.permute(0, 2, 1)\n",
        "        targets_idx = torch.LongTensor(targets_idx)\n",
        "\n",
        "\n",
        "        # Forward pass\n",
        "        # TWOJ KOD TUTAJ!\n",
        "        outputs = net(inputs_one_hot)\n",
        "\n",
        "        # Compute loss\n",
        "        # TWOJ KOD TUTAJ!\n",
        "        loss = criterion(outputs, targets_idx.view(-1))\n",
        "\n",
        "        # Backward pass\n",
        "        # TWOJ KOD TUTAJ!\n",
        "        \n",
        "        # zero grad\n",
        "        optimizer.zero_grad()\n",
        "\n",
        "        # backward\n",
        "        loss.backward()\n",
        "\n",
        "        # step...\n",
        "        optimizer.step()\n",
        "\n",
        "        epoch_training_loss += loss.detach().numpy()\n",
        "\n",
        "    training_loss.append(epoch_training_loss/len(training_set))\n",
        "    validation_loss.append(epoch_validation_loss/len(validation_set))\n",
        "\n",
        "    if i % 10 == 0:\n",
        "        print(f'Epoch {i}, training loss: {training_loss[-1]}, validation loss: {validation_loss[-1]}')\n",
        "\n",
        "\n",
        "inputs, targets = test_set[1]\n",
        "\n",
        "inputs_one_hot = one_hot_encode_sequence(inputs, vocab_size)\n",
        "targets_idx = [word_to_idx[word] for word in targets]\n",
        "inputs_one_hot = torch.Tensor(inputs_one_hot)\n",
        "inputs_one_hot = inputs_one_hot.permute(0, 2, 1)\n",
        "\n",
        "targets_idx = torch.LongTensor(targets_idx)\n",
        "outputs = net.forward(inputs_one_hot).data.numpy()\n",
        "\n",
        "print('\\nCiąg wejściowy:')\n",
        "print(inputs)\n",
        "\n",
        "print('\\nCiąg wyjściowy:')\n",
        "print(targets)\n",
        "\n",
        "print('\\nCiąg przewidziany:')\n",
        "print([idx_to_word[np.argmax(output)] for output in outputs])\n",
        "\n",
        "epoch = np.arange(len(training_loss))\n",
        "plt.figure()\n",
        "plt.plot(epoch, training_loss, 'r', label='Training loss',)\n",
        "plt.plot(epoch, validation_loss, 'b', label='Validation loss')\n",
        "plt.legend()\n",
        "plt.xlabel('Epoch'), plt.ylabel('NLL')\n",
        "plt.show()"
      ]
    },
    {
      "cell_type": "markdown",
      "id": "ce9c424b-2c26-4749-8399-b726080926d8",
      "metadata": {
        "id": "ce9c424b-2c26-4749-8399-b726080926d8"
      },
      "source": [
        "**Dodatkowo** zmień sieć RNN na LSTM i GRU zobacz czy osiągniesz lepsze wyniki. Sprawdź co najmniej trzy różne modele!"
      ]
    },
    {
      "cell_type": "code",
      "execution_count": 17,
      "id": "5414783f-75d7-424a-a947-d635f6f221a0",
      "metadata": {
        "id": "5414783f-75d7-424a-a947-d635f6f221a0"
      },
      "outputs": [],
      "source": [
        "# TUTAJ KOD\n",
        "class MyRecurrentNetLSTM(MyRecurrentNet):\n",
        "    def __init__(self):\n",
        "        super(MyRecurrentNetLSTM, self).__init__()\n",
        "\n",
        "        # Recurrent layer\n",
        "        # TWOJ KOD TUTAJ!\n",
        "        self.rnn = nn.LSTM(input_size=vocab_size,   # Input size is the vocab size for one-hot vectors\n",
        "                          hidden_size=50,          # Hidden size as defined before\n",
        "                          num_layers=1,            # Number of recurrent layers\n",
        "                          batch_first=True)        # Batch is the first dimension\n"
      ]
    },
    {
      "cell_type": "code",
      "execution_count": 18,
      "id": "-3cAfxjRD_fU",
      "metadata": {
        "colab": {
          "base_uri": "https://localhost:8080/",
          "height": 952
        },
        "id": "-3cAfxjRD_fU",
        "outputId": "725e258c-6391-4a91-b068-f2c58991aed6"
      },
      "outputs": [
        {
          "name": "stdout",
          "output_type": "stream",
          "text": [
            "Epoch 0, training loss: 1.0740521228780933, validation loss: 1.3948843383789062\n",
            "Epoch 10, training loss: 0.6002105380974564, validation loss: 0.5666120660305023\n",
            "Epoch 20, training loss: 0.5990104239945319, validation loss: 0.5653659749031067\n",
            "Epoch 30, training loss: 0.5986900183500028, validation loss: 0.5650631403923034\n",
            "Epoch 40, training loss: 0.5985372668387843, validation loss: 0.564939888715744\n",
            "Epoch 50, training loss: 0.5984365839292022, validation loss: 0.5648760426044465\n",
            "Epoch 60, training loss: 0.5983549169465607, validation loss: 0.5648371398448944\n",
            "Epoch 70, training loss: 0.5982807874679565, validation loss: 0.564810688495636\n",
            "Epoch 80, training loss: 0.5982095762795093, validation loss: 0.5647918689250946\n",
            "Epoch 90, training loss: 0.5981398480487805, validation loss: 0.5647800481319427\n",
            "Epoch 100, training loss: 0.5980716600429778, validation loss: 0.564776086807251\n",
            "Epoch 110, training loss: 0.5980050801938656, validation loss: 0.5647812962532044\n",
            "Epoch 120, training loss: 0.5979411607863856, validation loss: 0.5647944951057434\n",
            "Epoch 130, training loss: 0.5978796597497136, validation loss: 0.5648145723342896\n",
            "Epoch 140, training loss: 0.5978192269217735, validation loss: 0.5648434710502624\n",
            "Epoch 150, training loss: 0.5977593856114968, validation loss: 0.5648814523220063\n",
            "Epoch 160, training loss: 0.5977007287974451, validation loss: 0.5649279308319092\n",
            "Epoch 170, training loss: 0.597642504993607, validation loss: 0.5649834954738617\n",
            "Epoch 180, training loss: 0.59758507270439, validation loss: 0.5650458860397339\n",
            "Epoch 190, training loss: 0.5975279534856478, validation loss: 0.5651161479949951\n",
            "\n",
            "Ciąg wejściowy:\n",
            "['a', 'a', 'a', 'b', 'b', 'b']\n",
            "\n",
            "Ciąg wyjściowy:\n",
            "['a', 'a', 'b', 'b', 'b', 'EOS']\n",
            "\n",
            "Ciąg przewidziany:\n",
            "['a', 'a', 'a', 'b', 'b', 'b']\n"
          ]
        },
        {
          "data": {
            "image/png": "[encoded data removed]",
            "text/plain": [
              "<Figure size 640x480 with 1 Axes>"
            ]
          },
          "metadata": {},
          "output_type": "display_data"
        }
      ],
      "source": [
        "# Hyper-parameters\n",
        "num_epochs = 200\n",
        "\n",
        "net = MyRecurrentNetLSTM()\n",
        "\n",
        "# Zdefiniuj funkcję straty i optymalizator dla tego problemu\n",
        "# TWOJ KOD TUTAJ!\n",
        "criterion = nn.CrossEntropyLoss()\n",
        "optimizer = torch.optim.Adam(net.parameters(), lr=1e-3)\n",
        "\n",
        "training_loss, validation_loss = [], []\n",
        "\n",
        "for i in range(num_epochs):\n",
        "\n",
        "    epoch_training_loss = 0\n",
        "    epoch_validation_loss = 0\n",
        "\n",
        "    net.eval()\n",
        "\n",
        "    for inputs, targets in validation_set:\n",
        "        inputs_one_hot = one_hot_encode_sequence(inputs, vocab_size)\n",
        "        targets_idx = [word_to_idx[word] for word in targets]\n",
        "        inputs_one_hot = torch.Tensor(inputs_one_hot)\n",
        "        inputs_one_hot = inputs_one_hot.permute(0, 2, 1)\n",
        "        targets_idx = torch.LongTensor(targets_idx)\n",
        "\n",
        "        # Forward pass\n",
        "        # TWOJ KOD TUTAJ!\n",
        "        outputs =net(inputs_one_hot)\n",
        "\n",
        "        # Compute loss\n",
        "        # TWOJ KOD TUTAJ!\n",
        "        loss = criterion(outputs, targets_idx.view(-1))\n",
        "\n",
        "        epoch_validation_loss += loss.detach().numpy()\n",
        "\n",
        "    net.train()\n",
        "\n",
        "    for inputs, targets in training_set:\n",
        "\n",
        "        inputs_one_hot = one_hot_encode_sequence(inputs, vocab_size)\n",
        "        targets_idx = [word_to_idx[word] for word in targets]\n",
        "        inputs_one_hot = torch.Tensor(inputs_one_hot)\n",
        "        inputs_one_hot = inputs_one_hot.permute(0, 2, 1)\n",
        "        targets_idx = torch.LongTensor(targets_idx)\n",
        "\n",
        "\n",
        "        # Forward pass\n",
        "        # TWOJ KOD TUTAJ!\n",
        "        outputs = net(inputs_one_hot)\n",
        "\n",
        "        # Compute loss\n",
        "        # TWOJ KOD TUTAJ!\n",
        "        loss = criterion(outputs, targets_idx.view(-1))\n",
        "\n",
        "        # Backward pass\n",
        "        # TWOJ KOD TUTAJ!\n",
        "        # zero grad\n",
        "        optimizer.zero_grad()\n",
        "\n",
        "        # backward\n",
        "        loss.backward()\n",
        "\n",
        "        # step...\n",
        "        optimizer.step()\n",
        "\n",
        "        epoch_training_loss += loss.detach().numpy()\n",
        "\n",
        "    training_loss.append(epoch_training_loss/len(training_set))\n",
        "    validation_loss.append(epoch_validation_loss/len(validation_set))\n",
        "\n",
        "    if i % 10 == 0:\n",
        "        print(f'Epoch {i}, training loss: {training_loss[-1]}, validation loss: {validation_loss[-1]}')\n",
        "\n",
        "\n",
        "inputs, targets = test_set[1]\n",
        "\n",
        "inputs_one_hot = one_hot_encode_sequence(inputs, vocab_size)\n",
        "targets_idx = [word_to_idx[word] for word in targets]\n",
        "inputs_one_hot = torch.Tensor(inputs_one_hot)\n",
        "inputs_one_hot = inputs_one_hot.permute(0, 2, 1)\n",
        "\n",
        "targets_idx = torch.LongTensor(targets_idx)\n",
        "outputs = net.forward(inputs_one_hot).data.numpy()\n",
        "\n",
        "print('\\nCiąg wejściowy:')\n",
        "print(inputs)\n",
        "\n",
        "print('\\nCiąg wyjściowy:')\n",
        "print(targets)\n",
        "\n",
        "print('\\nCiąg przewidziany:')\n",
        "print([idx_to_word[np.argmax(output)] for output in outputs])\n",
        "\n",
        "epoch = np.arange(len(training_loss))\n",
        "plt.figure()\n",
        "plt.plot(epoch, training_loss, 'r', label='Training loss',)\n",
        "plt.plot(epoch, validation_loss, 'b', label='Validation loss')\n",
        "plt.legend()\n",
        "plt.xlabel('Epoch'), plt.ylabel('NLL')\n",
        "plt.show()"
      ]
    },
    {
      "cell_type": "markdown",
      "id": "7a120413-c4b4-4cd3-afe1-5787cd12d787",
      "metadata": {
        "id": "7a120413-c4b4-4cd3-afe1-5787cd12d787"
      },
      "source": [
        "# Zadanie 2 (10pt)"
      ]
    },
    {
      "cell_type": "markdown",
      "id": "ae8b5f9c-6114-44ee-a020-90d10f8965d8",
      "metadata": {
        "id": "ae8b5f9c-6114-44ee-a020-90d10f8965d8"
      },
      "source": [
        "## **1.** Stworzenie sieci rekurencyjnej służącej do generowania tekstu"
      ]
    },
    {
      "cell_type": "code",
      "execution_count": 22,
      "id": "9d45e5cd",
      "metadata": {},
      "outputs": [
        {
          "name": "stdout",
          "output_type": "stream",
          "text": [
            "Traceback (most recent call last):\n",
            "  File \"/bin/pip3\", line 11, in <module>\n",
            "    load_entry_point('pip==20.0.2', 'console_scripts', 'pip3')()\n",
            "  File \"/usr/lib/python3/dist-packages/pip/_internal/cli/main.py\", line 73, in main\n",
            "    command = create_command(cmd_name, isolated=(\"--isolated\" in cmd_args))\n",
            "  File \"/usr/lib/python3/dist-packages/pip/_internal/commands/__init__.py\", line 96, in create_command\n",
            "    module = importlib.import_module(module_path)\n",
            "  File \"/usr/lib/python3.10/importlib/__init__.py\", line 126, in import_module\n",
            "    return _bootstrap._gcd_import(name[level:], package, level)\n",
            "  File \"<frozen importlib._bootstrap>\", line 1050, in _gcd_import\n",
            "  File \"<frozen importlib._bootstrap>\", line 1027, in _find_and_load\n",
            "  File \"<frozen importlib._bootstrap>\", line 1006, in _find_and_load_unlocked\n",
            "  File \"<frozen importlib._bootstrap>\", line 688, in _load_unlocked\n",
            "  File \"<frozen importlib._bootstrap_external>\", line 883, in exec_module\n",
            "  File \"<frozen importlib._bootstrap>\", line 241, in _call_with_frames_removed\n",
            "  File \"/usr/lib/python3/dist-packages/pip/_internal/commands/install.py\", line 24, in <module>\n",
            "    from pip._internal.cli.req_command import RequirementCommand\n",
            "  File \"/usr/lib/python3/dist-packages/pip/_internal/cli/req_command.py\", line 15, in <module>\n",
            "    from pip._internal.index.package_finder import PackageFinder\n",
            "  File \"/usr/lib/python3/dist-packages/pip/_internal/index/package_finder.py\", line 21, in <module>\n",
            "    from pip._internal.index.collector import parse_links\n",
            "  File \"/usr/lib/python3/dist-packages/pip/_internal/index/collector.py\", line 12, in <module>\n",
            "    from pip._vendor import html5lib, requests\n",
            "ImportError: cannot import name 'html5lib' from 'pip._vendor' (/usr/lib/python3/dist-packages/pip/_vendor/__init__.py)\n"
          ]
        }
      ],
      "source": [
        "!pip3 install keras"
      ]
    },
    {
      "cell_type": "code",
      "execution_count": 20,
      "id": "7cc50463-d3f0-4520-be02-57700840d0a8",
      "metadata": {
        "id": "7cc50463-d3f0-4520-be02-57700840d0a8"
      },
      "outputs": [
        {
          "ename": "ModuleNotFoundError",
          "evalue": "No module named 'tensorflow'",
          "output_type": "error",
          "traceback": [
            "\u001b[0;31m---------------------------------------------------------------------------\u001b[0m",
            "\u001b[0;31mModuleNotFoundError\u001b[0m                       Traceback (most recent call last)",
            "Cell \u001b[0;32mIn[20], line 2\u001b[0m\n\u001b[1;32m      1\u001b[0m \u001b[38;5;28;01mimport\u001b[39;00m \u001b[38;5;21;01mnumpy\u001b[39;00m \u001b[38;5;28;01mas\u001b[39;00m \u001b[38;5;21;01mnp\u001b[39;00m\n\u001b[0;32m----> 2\u001b[0m \u001b[38;5;28;01mfrom\u001b[39;00m \u001b[38;5;21;01mkeras\u001b[39;00m\u001b[38;5;21;01m.\u001b[39;00m\u001b[38;5;21;01mmodels\u001b[39;00m \u001b[38;5;28;01mimport\u001b[39;00m Sequential\n\u001b[1;32m      3\u001b[0m \u001b[38;5;28;01mfrom\u001b[39;00m \u001b[38;5;21;01mkeras\u001b[39;00m\u001b[38;5;21;01m.\u001b[39;00m\u001b[38;5;21;01mlayers\u001b[39;00m \u001b[38;5;28;01mimport\u001b[39;00m Dense\n\u001b[1;32m      4\u001b[0m \u001b[38;5;28;01mfrom\u001b[39;00m \u001b[38;5;21;01mkeras\u001b[39;00m\u001b[38;5;21;01m.\u001b[39;00m\u001b[38;5;21;01mlayers\u001b[39;00m \u001b[38;5;28;01mimport\u001b[39;00m Dropout\n",
            "File \u001b[0;32m~/.local/lib/python3.10/site-packages/keras/__init__.py:10\u001b[0m\n\u001b[1;32m      7\u001b[0m \u001b[38;5;28;01mimport\u001b[39;00m \u001b[38;5;21;01mos\u001b[39;00m\n\u001b[1;32m      9\u001b[0m \u001b[38;5;66;03m# Import everything from /api/ into keras.\u001b[39;00m\n\u001b[0;32m---> 10\u001b[0m \u001b[38;5;28;01mfrom\u001b[39;00m \u001b[38;5;21;01mkeras\u001b[39;00m\u001b[38;5;21;01m.\u001b[39;00m\u001b[38;5;21;01mapi\u001b[39;00m \u001b[38;5;28;01mimport\u001b[39;00m \u001b[38;5;241m*\u001b[39m  \u001b[38;5;66;03m# noqa: F403\u001b[39;00m\n\u001b[1;32m     11\u001b[0m \u001b[38;5;28;01mfrom\u001b[39;00m \u001b[38;5;21;01mkeras\u001b[39;00m\u001b[38;5;21;01m.\u001b[39;00m\u001b[38;5;21;01mapi\u001b[39;00m \u001b[38;5;28;01mimport\u001b[39;00m __version__  \u001b[38;5;66;03m# Import * ignores names start with \"_\".\u001b[39;00m\n\u001b[1;32m     13\u001b[0m \u001b[38;5;66;03m# Add everything in /api/ to the module search path.\u001b[39;00m\n",
            "File \u001b[0;32m~/.local/lib/python3.10/site-packages/keras/api/__init__.py:8\u001b[0m\n\u001b[1;32m      1\u001b[0m \u001b[38;5;124;03m\"\"\"DO NOT EDIT.\u001b[39;00m\n\u001b[1;32m      2\u001b[0m \n\u001b[1;32m      3\u001b[0m \u001b[38;5;124;03mThis file was autogenerated. Do not edit it by hand,\u001b[39;00m\n\u001b[1;32m      4\u001b[0m \u001b[38;5;124;03msince your modifications would be overwritten.\u001b[39;00m\n\u001b[1;32m      5\u001b[0m \u001b[38;5;124;03m\"\"\"\u001b[39;00m\n\u001b[0;32m----> 8\u001b[0m \u001b[38;5;28;01mfrom\u001b[39;00m \u001b[38;5;21;01mkeras\u001b[39;00m\u001b[38;5;21;01m.\u001b[39;00m\u001b[38;5;21;01mapi\u001b[39;00m \u001b[38;5;28;01mimport\u001b[39;00m activations\n\u001b[1;32m      9\u001b[0m \u001b[38;5;28;01mfrom\u001b[39;00m \u001b[38;5;21;01mkeras\u001b[39;00m\u001b[38;5;21;01m.\u001b[39;00m\u001b[38;5;21;01mapi\u001b[39;00m \u001b[38;5;28;01mimport\u001b[39;00m applications\n\u001b[1;32m     10\u001b[0m \u001b[38;5;28;01mfrom\u001b[39;00m \u001b[38;5;21;01mkeras\u001b[39;00m\u001b[38;5;21;01m.\u001b[39;00m\u001b[38;5;21;01mapi\u001b[39;00m \u001b[38;5;28;01mimport\u001b[39;00m backend\n",
            "File \u001b[0;32m~/.local/lib/python3.10/site-packages/keras/api/activations/__init__.py:7\u001b[0m\n\u001b[1;32m      1\u001b[0m \u001b[38;5;124;03m\"\"\"DO NOT EDIT.\u001b[39;00m\n\u001b[1;32m      2\u001b[0m \n\u001b[1;32m      3\u001b[0m \u001b[38;5;124;03mThis file was autogenerated. Do not edit it by hand,\u001b[39;00m\n\u001b[1;32m      4\u001b[0m \u001b[38;5;124;03msince your modifications would be overwritten.\u001b[39;00m\n\u001b[1;32m      5\u001b[0m \u001b[38;5;124;03m\"\"\"\u001b[39;00m\n\u001b[0;32m----> 7\u001b[0m \u001b[38;5;28;01mfrom\u001b[39;00m \u001b[38;5;21;01mkeras\u001b[39;00m\u001b[38;5;21;01m.\u001b[39;00m\u001b[38;5;21;01msrc\u001b[39;00m\u001b[38;5;21;01m.\u001b[39;00m\u001b[38;5;21;01mactivations\u001b[39;00m \u001b[38;5;28;01mimport\u001b[39;00m deserialize\n\u001b[1;32m      8\u001b[0m \u001b[38;5;28;01mfrom\u001b[39;00m \u001b[38;5;21;01mkeras\u001b[39;00m\u001b[38;5;21;01m.\u001b[39;00m\u001b[38;5;21;01msrc\u001b[39;00m\u001b[38;5;21;01m.\u001b[39;00m\u001b[38;5;21;01mactivations\u001b[39;00m \u001b[38;5;28;01mimport\u001b[39;00m get\n\u001b[1;32m      9\u001b[0m \u001b[38;5;28;01mfrom\u001b[39;00m \u001b[38;5;21;01mkeras\u001b[39;00m\u001b[38;5;21;01m.\u001b[39;00m\u001b[38;5;21;01msrc\u001b[39;00m\u001b[38;5;21;01m.\u001b[39;00m\u001b[38;5;21;01mactivations\u001b[39;00m \u001b[38;5;28;01mimport\u001b[39;00m serialize\n",
            "File \u001b[0;32m~/.local/lib/python3.10/site-packages/keras/src/__init__.py:1\u001b[0m\n\u001b[0;32m----> 1\u001b[0m \u001b[38;5;28;01mfrom\u001b[39;00m \u001b[38;5;21;01mkeras\u001b[39;00m\u001b[38;5;21;01m.\u001b[39;00m\u001b[38;5;21;01msrc\u001b[39;00m \u001b[38;5;28;01mimport\u001b[39;00m activations\n\u001b[1;32m      2\u001b[0m \u001b[38;5;28;01mfrom\u001b[39;00m \u001b[38;5;21;01mkeras\u001b[39;00m\u001b[38;5;21;01m.\u001b[39;00m\u001b[38;5;21;01msrc\u001b[39;00m \u001b[38;5;28;01mimport\u001b[39;00m applications\n\u001b[1;32m      3\u001b[0m \u001b[38;5;28;01mfrom\u001b[39;00m \u001b[38;5;21;01mkeras\u001b[39;00m\u001b[38;5;21;01m.\u001b[39;00m\u001b[38;5;21;01msrc\u001b[39;00m \u001b[38;5;28;01mimport\u001b[39;00m backend\n",
            "File \u001b[0;32m~/.local/lib/python3.10/site-packages/keras/src/activations/__init__.py:3\u001b[0m\n\u001b[1;32m      1\u001b[0m \u001b[38;5;28;01mimport\u001b[39;00m \u001b[38;5;21;01mtypes\u001b[39;00m\n\u001b[0;32m----> 3\u001b[0m \u001b[38;5;28;01mfrom\u001b[39;00m \u001b[38;5;21;01mkeras\u001b[39;00m\u001b[38;5;21;01m.\u001b[39;00m\u001b[38;5;21;01msrc\u001b[39;00m\u001b[38;5;21;01m.\u001b[39;00m\u001b[38;5;21;01mactivations\u001b[39;00m\u001b[38;5;21;01m.\u001b[39;00m\u001b[38;5;21;01mactivations\u001b[39;00m \u001b[38;5;28;01mimport\u001b[39;00m elu\n\u001b[1;32m      4\u001b[0m \u001b[38;5;28;01mfrom\u001b[39;00m \u001b[38;5;21;01mkeras\u001b[39;00m\u001b[38;5;21;01m.\u001b[39;00m\u001b[38;5;21;01msrc\u001b[39;00m\u001b[38;5;21;01m.\u001b[39;00m\u001b[38;5;21;01mactivations\u001b[39;00m\u001b[38;5;21;01m.\u001b[39;00m\u001b[38;5;21;01mactivations\u001b[39;00m \u001b[38;5;28;01mimport\u001b[39;00m exponential\n\u001b[1;32m      5\u001b[0m \u001b[38;5;28;01mfrom\u001b[39;00m \u001b[38;5;21;01mkeras\u001b[39;00m\u001b[38;5;21;01m.\u001b[39;00m\u001b[38;5;21;01msrc\u001b[39;00m\u001b[38;5;21;01m.\u001b[39;00m\u001b[38;5;21;01mactivations\u001b[39;00m\u001b[38;5;21;01m.\u001b[39;00m\u001b[38;5;21;01mactivations\u001b[39;00m \u001b[38;5;28;01mimport\u001b[39;00m gelu\n",
            "File \u001b[0;32m~/.local/lib/python3.10/site-packages/keras/src/activations/activations.py:1\u001b[0m\n\u001b[0;32m----> 1\u001b[0m \u001b[38;5;28;01mfrom\u001b[39;00m \u001b[38;5;21;01mkeras\u001b[39;00m\u001b[38;5;21;01m.\u001b[39;00m\u001b[38;5;21;01msrc\u001b[39;00m \u001b[38;5;28;01mimport\u001b[39;00m backend\n\u001b[1;32m      2\u001b[0m \u001b[38;5;28;01mfrom\u001b[39;00m \u001b[38;5;21;01mkeras\u001b[39;00m\u001b[38;5;21;01m.\u001b[39;00m\u001b[38;5;21;01msrc\u001b[39;00m \u001b[38;5;28;01mimport\u001b[39;00m ops\n\u001b[1;32m      3\u001b[0m \u001b[38;5;28;01mfrom\u001b[39;00m \u001b[38;5;21;01mkeras\u001b[39;00m\u001b[38;5;21;01m.\u001b[39;00m\u001b[38;5;21;01msrc\u001b[39;00m\u001b[38;5;21;01m.\u001b[39;00m\u001b[38;5;21;01mapi_export\u001b[39;00m \u001b[38;5;28;01mimport\u001b[39;00m keras_export\n",
            "File \u001b[0;32m~/.local/lib/python3.10/site-packages/keras/src/backend/__init__.py:9\u001b[0m\n\u001b[1;32m      3\u001b[0m \u001b[38;5;28;01mif\u001b[39;00m backend() \u001b[38;5;241m==\u001b[39m \u001b[38;5;124m\"\u001b[39m\u001b[38;5;124mtorch\u001b[39m\u001b[38;5;124m\"\u001b[39m:\n\u001b[1;32m      4\u001b[0m     \u001b[38;5;66;03m# When using the torch backend,\u001b[39;00m\n\u001b[1;32m      5\u001b[0m     \u001b[38;5;66;03m# torch needs to be imported first, otherwise it will segfault\u001b[39;00m\n\u001b[1;32m      6\u001b[0m     \u001b[38;5;66;03m# upon import.\u001b[39;00m\n\u001b[1;32m      7\u001b[0m     \u001b[38;5;28;01mimport\u001b[39;00m \u001b[38;5;21;01mtorch\u001b[39;00m\n\u001b[0;32m----> 9\u001b[0m \u001b[38;5;28;01mfrom\u001b[39;00m \u001b[38;5;21;01mkeras\u001b[39;00m\u001b[38;5;21;01m.\u001b[39;00m\u001b[38;5;21;01msrc\u001b[39;00m\u001b[38;5;21;01m.\u001b[39;00m\u001b[38;5;21;01mbackend\u001b[39;00m\u001b[38;5;21;01m.\u001b[39;00m\u001b[38;5;21;01mcommon\u001b[39;00m\u001b[38;5;21;01m.\u001b[39;00m\u001b[38;5;21;01mdtypes\u001b[39;00m \u001b[38;5;28;01mimport\u001b[39;00m result_type\n\u001b[1;32m     10\u001b[0m \u001b[38;5;28;01mfrom\u001b[39;00m \u001b[38;5;21;01mkeras\u001b[39;00m\u001b[38;5;21;01m.\u001b[39;00m\u001b[38;5;21;01msrc\u001b[39;00m\u001b[38;5;21;01m.\u001b[39;00m\u001b[38;5;21;01mbackend\u001b[39;00m\u001b[38;5;21;01m.\u001b[39;00m\u001b[38;5;21;01mcommon\u001b[39;00m\u001b[38;5;21;01m.\u001b[39;00m\u001b[38;5;21;01mkeras_tensor\u001b[39;00m \u001b[38;5;28;01mimport\u001b[39;00m KerasTensor\n\u001b[1;32m     11\u001b[0m \u001b[38;5;28;01mfrom\u001b[39;00m \u001b[38;5;21;01mkeras\u001b[39;00m\u001b[38;5;21;01m.\u001b[39;00m\u001b[38;5;21;01msrc\u001b[39;00m\u001b[38;5;21;01m.\u001b[39;00m\u001b[38;5;21;01mbackend\u001b[39;00m\u001b[38;5;21;01m.\u001b[39;00m\u001b[38;5;21;01mcommon\u001b[39;00m\u001b[38;5;21;01m.\u001b[39;00m\u001b[38;5;21;01mkeras_tensor\u001b[39;00m \u001b[38;5;28;01mimport\u001b[39;00m any_symbolic_tensors\n",
            "File \u001b[0;32m~/.local/lib/python3.10/site-packages/keras/src/backend/common/__init__.py:2\u001b[0m\n\u001b[1;32m      1\u001b[0m \u001b[38;5;28;01mfrom\u001b[39;00m \u001b[38;5;21;01mkeras\u001b[39;00m\u001b[38;5;21;01m.\u001b[39;00m\u001b[38;5;21;01msrc\u001b[39;00m\u001b[38;5;21;01m.\u001b[39;00m\u001b[38;5;21;01mbackend\u001b[39;00m\u001b[38;5;21;01m.\u001b[39;00m\u001b[38;5;21;01mcommon\u001b[39;00m \u001b[38;5;28;01mimport\u001b[39;00m backend_utils\n\u001b[0;32m----> 2\u001b[0m \u001b[38;5;28;01mfrom\u001b[39;00m \u001b[38;5;21;01mkeras\u001b[39;00m\u001b[38;5;21;01m.\u001b[39;00m\u001b[38;5;21;01msrc\u001b[39;00m\u001b[38;5;21;01m.\u001b[39;00m\u001b[38;5;21;01mbackend\u001b[39;00m\u001b[38;5;21;01m.\u001b[39;00m\u001b[38;5;21;01mcommon\u001b[39;00m\u001b[38;5;21;01m.\u001b[39;00m\u001b[38;5;21;01mdtypes\u001b[39;00m \u001b[38;5;28;01mimport\u001b[39;00m result_type\n\u001b[1;32m      3\u001b[0m \u001b[38;5;28;01mfrom\u001b[39;00m \u001b[38;5;21;01mkeras\u001b[39;00m\u001b[38;5;21;01m.\u001b[39;00m\u001b[38;5;21;01msrc\u001b[39;00m\u001b[38;5;21;01m.\u001b[39;00m\u001b[38;5;21;01mbackend\u001b[39;00m\u001b[38;5;21;01m.\u001b[39;00m\u001b[38;5;21;01mcommon\u001b[39;00m\u001b[38;5;21;01m.\u001b[39;00m\u001b[38;5;21;01mvariables\u001b[39;00m \u001b[38;5;28;01mimport\u001b[39;00m AutocastScope\n\u001b[1;32m      4\u001b[0m \u001b[38;5;28;01mfrom\u001b[39;00m \u001b[38;5;21;01mkeras\u001b[39;00m\u001b[38;5;21;01m.\u001b[39;00m\u001b[38;5;21;01msrc\u001b[39;00m\u001b[38;5;21;01m.\u001b[39;00m\u001b[38;5;21;01mbackend\u001b[39;00m\u001b[38;5;21;01m.\u001b[39;00m\u001b[38;5;21;01mcommon\u001b[39;00m\u001b[38;5;21;01m.\u001b[39;00m\u001b[38;5;21;01mvariables\u001b[39;00m \u001b[38;5;28;01mimport\u001b[39;00m KerasVariable\n",
            "File \u001b[0;32m~/.local/lib/python3.10/site-packages/keras/src/backend/common/dtypes.py:5\u001b[0m\n\u001b[1;32m      3\u001b[0m \u001b[38;5;28;01mfrom\u001b[39;00m \u001b[38;5;21;01mkeras\u001b[39;00m\u001b[38;5;21;01m.\u001b[39;00m\u001b[38;5;21;01msrc\u001b[39;00m\u001b[38;5;21;01m.\u001b[39;00m\u001b[38;5;21;01mapi_export\u001b[39;00m \u001b[38;5;28;01mimport\u001b[39;00m keras_export\n\u001b[1;32m      4\u001b[0m \u001b[38;5;28;01mfrom\u001b[39;00m \u001b[38;5;21;01mkeras\u001b[39;00m\u001b[38;5;21;01m.\u001b[39;00m\u001b[38;5;21;01msrc\u001b[39;00m\u001b[38;5;21;01m.\u001b[39;00m\u001b[38;5;21;01mbackend\u001b[39;00m \u001b[38;5;28;01mimport\u001b[39;00m config\n\u001b[0;32m----> 5\u001b[0m \u001b[38;5;28;01mfrom\u001b[39;00m \u001b[38;5;21;01mkeras\u001b[39;00m\u001b[38;5;21;01m.\u001b[39;00m\u001b[38;5;21;01msrc\u001b[39;00m\u001b[38;5;21;01m.\u001b[39;00m\u001b[38;5;21;01mbackend\u001b[39;00m\u001b[38;5;21;01m.\u001b[39;00m\u001b[38;5;21;01mcommon\u001b[39;00m\u001b[38;5;21;01m.\u001b[39;00m\u001b[38;5;21;01mvariables\u001b[39;00m \u001b[38;5;28;01mimport\u001b[39;00m standardize_dtype\n\u001b[1;32m      7\u001b[0m BOOL_TYPES \u001b[38;5;241m=\u001b[39m (\u001b[38;5;124m\"\u001b[39m\u001b[38;5;124mbool\u001b[39m\u001b[38;5;124m\"\u001b[39m,)\n\u001b[1;32m      8\u001b[0m INT_TYPES \u001b[38;5;241m=\u001b[39m (\n\u001b[1;32m      9\u001b[0m     \u001b[38;5;124m\"\u001b[39m\u001b[38;5;124muint8\u001b[39m\u001b[38;5;124m\"\u001b[39m,\n\u001b[1;32m     10\u001b[0m     \u001b[38;5;124m\"\u001b[39m\u001b[38;5;124muint16\u001b[39m\u001b[38;5;124m\"\u001b[39m,\n\u001b[0;32m   (...)\u001b[0m\n\u001b[1;32m     16\u001b[0m     \u001b[38;5;124m\"\u001b[39m\u001b[38;5;124mint64\u001b[39m\u001b[38;5;124m\"\u001b[39m,\n\u001b[1;32m     17\u001b[0m )\n",
            "File \u001b[0;32m~/.local/lib/python3.10/site-packages/keras/src/backend/common/variables.py:10\u001b[0m\n\u001b[1;32m      8\u001b[0m \u001b[38;5;28;01mfrom\u001b[39;00m \u001b[38;5;21;01mkeras\u001b[39;00m\u001b[38;5;21;01m.\u001b[39;00m\u001b[38;5;21;01msrc\u001b[39;00m\u001b[38;5;21;01m.\u001b[39;00m\u001b[38;5;21;01mbackend\u001b[39;00m\u001b[38;5;21;01m.\u001b[39;00m\u001b[38;5;21;01mcommon\u001b[39;00m\u001b[38;5;21;01m.\u001b[39;00m\u001b[38;5;21;01mstateless_scope\u001b[39;00m \u001b[38;5;28;01mimport\u001b[39;00m get_stateless_scope\n\u001b[1;32m      9\u001b[0m \u001b[38;5;28;01mfrom\u001b[39;00m \u001b[38;5;21;01mkeras\u001b[39;00m\u001b[38;5;21;01m.\u001b[39;00m\u001b[38;5;21;01msrc\u001b[39;00m\u001b[38;5;21;01m.\u001b[39;00m\u001b[38;5;21;01mbackend\u001b[39;00m\u001b[38;5;21;01m.\u001b[39;00m\u001b[38;5;21;01mcommon\u001b[39;00m\u001b[38;5;21;01m.\u001b[39;00m\u001b[38;5;21;01mstateless_scope\u001b[39;00m \u001b[38;5;28;01mimport\u001b[39;00m in_stateless_scope\n\u001b[0;32m---> 10\u001b[0m \u001b[38;5;28;01mfrom\u001b[39;00m \u001b[38;5;21;01mkeras\u001b[39;00m\u001b[38;5;21;01m.\u001b[39;00m\u001b[38;5;21;01msrc\u001b[39;00m\u001b[38;5;21;01m.\u001b[39;00m\u001b[38;5;21;01mutils\u001b[39;00m\u001b[38;5;21;01m.\u001b[39;00m\u001b[38;5;21;01mmodule_utils\u001b[39;00m \u001b[38;5;28;01mimport\u001b[39;00m tensorflow \u001b[38;5;28;01mas\u001b[39;00m tf\n\u001b[1;32m     11\u001b[0m \u001b[38;5;28;01mfrom\u001b[39;00m \u001b[38;5;21;01mkeras\u001b[39;00m\u001b[38;5;21;01m.\u001b[39;00m\u001b[38;5;21;01msrc\u001b[39;00m\u001b[38;5;21;01m.\u001b[39;00m\u001b[38;5;21;01mutils\u001b[39;00m\u001b[38;5;21;01m.\u001b[39;00m\u001b[38;5;21;01mnaming\u001b[39;00m \u001b[38;5;28;01mimport\u001b[39;00m auto_name\n\u001b[1;32m     14\u001b[0m \u001b[38;5;28;01mclass\u001b[39;00m \u001b[38;5;21;01mKerasVariable\u001b[39;00m:\n",
            "File \u001b[0;32m~/.local/lib/python3.10/site-packages/keras/src/utils/__init__.py:12\u001b[0m\n\u001b[1;32m     10\u001b[0m \u001b[38;5;28;01mfrom\u001b[39;00m \u001b[38;5;21;01mkeras\u001b[39;00m\u001b[38;5;21;01m.\u001b[39;00m\u001b[38;5;21;01msrc\u001b[39;00m\u001b[38;5;21;01m.\u001b[39;00m\u001b[38;5;21;01mutils\u001b[39;00m\u001b[38;5;21;01m.\u001b[39;00m\u001b[38;5;21;01mio_utils\u001b[39;00m \u001b[38;5;28;01mimport\u001b[39;00m enable_interactive_logging\n\u001b[1;32m     11\u001b[0m \u001b[38;5;28;01mfrom\u001b[39;00m \u001b[38;5;21;01mkeras\u001b[39;00m\u001b[38;5;21;01m.\u001b[39;00m\u001b[38;5;21;01msrc\u001b[39;00m\u001b[38;5;21;01m.\u001b[39;00m\u001b[38;5;21;01mutils\u001b[39;00m\u001b[38;5;21;01m.\u001b[39;00m\u001b[38;5;21;01mio_utils\u001b[39;00m \u001b[38;5;28;01mimport\u001b[39;00m is_interactive_logging_enabled\n\u001b[0;32m---> 12\u001b[0m \u001b[38;5;28;01mfrom\u001b[39;00m \u001b[38;5;21;01mkeras\u001b[39;00m\u001b[38;5;21;01m.\u001b[39;00m\u001b[38;5;21;01msrc\u001b[39;00m\u001b[38;5;21;01m.\u001b[39;00m\u001b[38;5;21;01mutils\u001b[39;00m\u001b[38;5;21;01m.\u001b[39;00m\u001b[38;5;21;01mmodel_visualization\u001b[39;00m \u001b[38;5;28;01mimport\u001b[39;00m model_to_dot\n\u001b[1;32m     13\u001b[0m \u001b[38;5;28;01mfrom\u001b[39;00m \u001b[38;5;21;01mkeras\u001b[39;00m\u001b[38;5;21;01m.\u001b[39;00m\u001b[38;5;21;01msrc\u001b[39;00m\u001b[38;5;21;01m.\u001b[39;00m\u001b[38;5;21;01mutils\u001b[39;00m\u001b[38;5;21;01m.\u001b[39;00m\u001b[38;5;21;01mmodel_visualization\u001b[39;00m \u001b[38;5;28;01mimport\u001b[39;00m plot_model\n\u001b[1;32m     14\u001b[0m \u001b[38;5;28;01mfrom\u001b[39;00m \u001b[38;5;21;01mkeras\u001b[39;00m\u001b[38;5;21;01m.\u001b[39;00m\u001b[38;5;21;01msrc\u001b[39;00m\u001b[38;5;21;01m.\u001b[39;00m\u001b[38;5;21;01mutils\u001b[39;00m\u001b[38;5;21;01m.\u001b[39;00m\u001b[38;5;21;01mnumerical_utils\u001b[39;00m \u001b[38;5;28;01mimport\u001b[39;00m normalize\n",
            "File \u001b[0;32m~/.local/lib/python3.10/site-packages/keras/src/utils/model_visualization.py:6\u001b[0m\n\u001b[1;32m      3\u001b[0m \u001b[38;5;28;01mimport\u001b[39;00m \u001b[38;5;21;01mos\u001b[39;00m\n\u001b[1;32m      4\u001b[0m \u001b[38;5;28;01mimport\u001b[39;00m \u001b[38;5;21;01msys\u001b[39;00m\n\u001b[0;32m----> 6\u001b[0m \u001b[38;5;28;01mfrom\u001b[39;00m \u001b[38;5;21;01mkeras\u001b[39;00m\u001b[38;5;21;01m.\u001b[39;00m\u001b[38;5;21;01msrc\u001b[39;00m \u001b[38;5;28;01mimport\u001b[39;00m tree\n\u001b[1;32m      7\u001b[0m \u001b[38;5;28;01mfrom\u001b[39;00m \u001b[38;5;21;01mkeras\u001b[39;00m\u001b[38;5;21;01m.\u001b[39;00m\u001b[38;5;21;01msrc\u001b[39;00m\u001b[38;5;21;01m.\u001b[39;00m\u001b[38;5;21;01mapi_export\u001b[39;00m \u001b[38;5;28;01mimport\u001b[39;00m keras_export\n\u001b[1;32m      8\u001b[0m \u001b[38;5;28;01mfrom\u001b[39;00m \u001b[38;5;21;01mkeras\u001b[39;00m\u001b[38;5;21;01m.\u001b[39;00m\u001b[38;5;21;01msrc\u001b[39;00m\u001b[38;5;21;01m.\u001b[39;00m\u001b[38;5;21;01mutils\u001b[39;00m \u001b[38;5;28;01mimport\u001b[39;00m io_utils\n",
            "File \u001b[0;32m~/.local/lib/python3.10/site-packages/keras/src/tree/__init__.py:1\u001b[0m\n\u001b[0;32m----> 1\u001b[0m \u001b[38;5;28;01mfrom\u001b[39;00m \u001b[38;5;21;01mkeras\u001b[39;00m\u001b[38;5;21;01m.\u001b[39;00m\u001b[38;5;21;01msrc\u001b[39;00m\u001b[38;5;21;01m.\u001b[39;00m\u001b[38;5;21;01mtree\u001b[39;00m\u001b[38;5;21;01m.\u001b[39;00m\u001b[38;5;21;01mtree_api\u001b[39;00m \u001b[38;5;28;01mimport\u001b[39;00m assert_same_structure\n\u001b[1;32m      2\u001b[0m \u001b[38;5;28;01mfrom\u001b[39;00m \u001b[38;5;21;01mkeras\u001b[39;00m\u001b[38;5;21;01m.\u001b[39;00m\u001b[38;5;21;01msrc\u001b[39;00m\u001b[38;5;21;01m.\u001b[39;00m\u001b[38;5;21;01mtree\u001b[39;00m\u001b[38;5;21;01m.\u001b[39;00m\u001b[38;5;21;01mtree_api\u001b[39;00m \u001b[38;5;28;01mimport\u001b[39;00m flatten\n\u001b[1;32m      3\u001b[0m \u001b[38;5;28;01mfrom\u001b[39;00m \u001b[38;5;21;01mkeras\u001b[39;00m\u001b[38;5;21;01m.\u001b[39;00m\u001b[38;5;21;01msrc\u001b[39;00m\u001b[38;5;21;01m.\u001b[39;00m\u001b[38;5;21;01mtree\u001b[39;00m\u001b[38;5;21;01m.\u001b[39;00m\u001b[38;5;21;01mtree_api\u001b[39;00m \u001b[38;5;28;01mimport\u001b[39;00m is_nested\n",
            "File \u001b[0;32m~/.local/lib/python3.10/site-packages/keras/src/tree/tree_api.py:6\u001b[0m\n\u001b[1;32m      3\u001b[0m \u001b[38;5;28;01mfrom\u001b[39;00m \u001b[38;5;21;01mkeras\u001b[39;00m\u001b[38;5;21;01m.\u001b[39;00m\u001b[38;5;21;01msrc\u001b[39;00m\u001b[38;5;21;01m.\u001b[39;00m\u001b[38;5;21;01mutils\u001b[39;00m\u001b[38;5;21;01m.\u001b[39;00m\u001b[38;5;21;01mmodule_utils\u001b[39;00m \u001b[38;5;28;01mimport\u001b[39;00m optree\n\u001b[1;32m      5\u001b[0m \u001b[38;5;28;01mif\u001b[39;00m optree\u001b[38;5;241m.\u001b[39mavailable:\n\u001b[0;32m----> 6\u001b[0m     \u001b[38;5;28;01mfrom\u001b[39;00m \u001b[38;5;21;01mkeras\u001b[39;00m\u001b[38;5;21;01m.\u001b[39;00m\u001b[38;5;21;01msrc\u001b[39;00m\u001b[38;5;21;01m.\u001b[39;00m\u001b[38;5;21;01mtree\u001b[39;00m \u001b[38;5;28;01mimport\u001b[39;00m optree_impl \u001b[38;5;28;01mas\u001b[39;00m tree_impl\n\u001b[1;32m      7\u001b[0m \u001b[38;5;28;01melif\u001b[39;00m dmtree\u001b[38;5;241m.\u001b[39mavailable:\n\u001b[1;32m      8\u001b[0m     \u001b[38;5;28;01mfrom\u001b[39;00m \u001b[38;5;21;01mkeras\u001b[39;00m\u001b[38;5;21;01m.\u001b[39;00m\u001b[38;5;21;01msrc\u001b[39;00m\u001b[38;5;21;01m.\u001b[39;00m\u001b[38;5;21;01mtree\u001b[39;00m \u001b[38;5;28;01mimport\u001b[39;00m dmtree_impl \u001b[38;5;28;01mas\u001b[39;00m tree_impl\n",
            "File \u001b[0;32m~/.local/lib/python3.10/site-packages/keras/src/tree/optree_impl.py:17\u001b[0m\n\u001b[1;32m     15\u001b[0m \u001b[38;5;66;03m# Register backend-specific node classes\u001b[39;00m\n\u001b[1;32m     16\u001b[0m \u001b[38;5;28;01mif\u001b[39;00m backend() \u001b[38;5;241m==\u001b[39m \u001b[38;5;124m\"\u001b[39m\u001b[38;5;124mtensorflow\u001b[39m\u001b[38;5;124m\"\u001b[39m:\n\u001b[0;32m---> 17\u001b[0m     \u001b[38;5;28;01mfrom\u001b[39;00m \u001b[38;5;21;01mtensorflow\u001b[39;00m\u001b[38;5;21;01m.\u001b[39;00m\u001b[38;5;21;01mpython\u001b[39;00m\u001b[38;5;21;01m.\u001b[39;00m\u001b[38;5;21;01mtrackable\u001b[39;00m\u001b[38;5;21;01m.\u001b[39;00m\u001b[38;5;21;01mdata_structures\u001b[39;00m \u001b[38;5;28;01mimport\u001b[39;00m ListWrapper\n\u001b[1;32m     19\u001b[0m     optree\u001b[38;5;241m.\u001b[39mregister_pytree_node(\n\u001b[1;32m     20\u001b[0m         ListWrapper,\n\u001b[1;32m     21\u001b[0m         \u001b[38;5;28;01mlambda\u001b[39;00m x: (x, \u001b[38;5;28;01mNone\u001b[39;00m),\n\u001b[1;32m     22\u001b[0m         \u001b[38;5;28;01mlambda\u001b[39;00m metadata, children: ListWrapper(\u001b[38;5;28mlist\u001b[39m(children)),\n\u001b[1;32m     23\u001b[0m         namespace\u001b[38;5;241m=\u001b[39m\u001b[38;5;124m\"\u001b[39m\u001b[38;5;124mkeras\u001b[39m\u001b[38;5;124m\"\u001b[39m,\n\u001b[1;32m     24\u001b[0m     )\n\u001b[1;32m     27\u001b[0m \u001b[38;5;28;01mdef\u001b[39;00m \u001b[38;5;21mis_nested\u001b[39m(structure):\n",
            "\u001b[0;31mModuleNotFoundError\u001b[0m: No module named 'tensorflow'"
          ]
        }
      ],
      "source": [
        "import numpy as np\n",
        "from keras.models import Sequential\n",
        "from keras.layers import Dense\n",
        "from keras.layers import Dropout\n",
        "from keras.layers import LSTM\n",
        "from keras.callbacks import ModelCheckpoint\n",
        "import np_utils"
      ]
    },
    {
      "cell_type": "markdown",
      "id": "ed88754d-d228-4c70-b2c1-6ecbca0be026",
      "metadata": {
        "id": "ed88754d-d228-4c70-b2c1-6ecbca0be026"
      },
      "source": [
        "Zaimportujemy wybrany plik kodowany jako UTF-8 w formacie txt, będący naszym materiałem do treningu sieci.\n",
        "Pliki txt, które są w domenie publicznej lub posiadają licencje zezwalające na użytek można uzyskać ze stron:\n",
        "\n",
        "*   [Projekt Gutenberg](https://www.gutenberg.org/browse/languages/pl)\n",
        "\n",
        "*   [Wolne Lektury](https://wolnelektury.pl/)\n",
        "\n",
        "*  [Portal Czytać](https://czytac.com/)\n",
        "\n",
        "Wybrać po jednym tytule reprezentującym różne gatunki (proza, poezja, dramat).\n",
        "Załadować wybrany plik reprezentujący prozę."
      ]
    },
    {
      "cell_type": "code",
      "execution_count": null,
      "id": "0fab14d2-3d30-47d9-afec-51d5c625f81a",
      "metadata": {
        "id": "0fab14d2-3d30-47d9-afec-51d5c625f81a"
      },
      "outputs": [],
      "source": [
        "# Ładowanie pliku tekstowego ze znakami ASCII i konwersja do lowercase\n",
        "from keras.utils import get_file\n",
        "\n",
        "URL = \"https://wolnelektury.pl/media/book/txt/pies-baskervilleow.txt\"\n",
        "filename = get_file('pies-baskervilleow.txt', origin=URL)\n",
        "text = open(filename, 'r', encoding='utf-8').read().lower()\n",
        "\n",
        "print(text[:500])"
      ]
    },
    {
      "cell_type": "code",
      "execution_count": null,
      "id": "a376b631-3b0f-48f7-a421-79997ad670f7",
      "metadata": {
        "id": "a376b631-3b0f-48f7-a421-79997ad670f7"
      },
      "outputs": [],
      "source": [
        "text = text.replace(\"\\n\", \" \")\n",
        "split = int(0.9 * len(text))\n",
        "train_text = text[:split]\n",
        "test_text = text[split:]"
      ]
    },
    {
      "cell_type": "markdown",
      "id": "0923a305-032d-479c-8629-8dfbe288ea30",
      "metadata": {
        "id": "0923a305-032d-479c-8629-8dfbe288ea30"
      },
      "source": [
        "Na początek tak jak już wiemy musimy wprowadzić odpowiednią reprezentacje danych. W tym celu dokonamy zamiany unikalnych znaków występujących w wybranej książce na postać liczbową."
      ]
    },
    {
      "cell_type": "code",
      "execution_count": null,
      "id": "bcda11d0-b566-4396-9e99-650ed83d980b",
      "metadata": {
        "id": "bcda11d0-b566-4396-9e99-650ed83d980b"
      },
      "outputs": [],
      "source": [
        "# Tworzenie mapowania unikalnych znaków na postać liczbową\n",
        "chars = sorted(list(set(text)))\n",
        "print('total chars:', len(chars))\n",
        "char_indices = dict((c, i) for i, c in enumerate(chars))\n",
        "indices_char = dict((i, c) for i, c in enumerate(chars))"
      ]
    },
    {
      "cell_type": "code",
      "execution_count": null,
      "id": "18a4f131-a553-47b1-9aff-6f4b77a0e28e",
      "metadata": {
        "id": "18a4f131-a553-47b1-9aff-6f4b77a0e28e"
      },
      "outputs": [],
      "source": [
        "max_length = 40\n",
        "step = 3\n",
        "\n",
        "def make_sequences(text, max_length=max_length, step=step):\n",
        "    sequences = []\n",
        "    next_chars = []\n",
        "    for i in range(0, len(text) - max_length, step):\n",
        "        sequences.append(text[i: i + max_length])\n",
        "        next_chars.append(text[i + max_length])\n",
        "    return sequences, next_chars\n",
        "\n",
        "sequences, next_chars = make_sequences(train_text)\n",
        "sequences_test, next_chars_test = make_sequences(test_text, step=10)\n",
        "\n",
        "print('nb train sequences:', len(sequences))\n",
        "print('nb test sequences:', len(sequences_test))"
      ]
    },
    {
      "cell_type": "code",
      "execution_count": null,
      "id": "5db845ff-0411-4e69-9dab-ef1ceb7b114b",
      "metadata": {
        "id": "5db845ff-0411-4e69-9dab-ef1ceb7b114b"
      },
      "outputs": [],
      "source": [
        "n_sequences = len(sequences)\n",
        "n_sequences_test = len(sequences_test)\n",
        "voc_size = len(chars)\n",
        "\n",
        "# TWOJ KOD TUTAJ!\n",
        "X = np.zeros((___), dtype=np.float32)\n",
        "y = np.zeros((___), dtype=np.float32)\n",
        "\n",
        "# TWOJ KOD TUTAJ!\n",
        "X_test = np.zeros((___), dtype=np.float32)\n",
        "y_test = np.zeros((___), dtype=np.float32)\n",
        "\n",
        "\n",
        "for i, sequence in enumerate(sequences):\n",
        "    for t, char in enumerate(sequence):\n",
        "        X[i, t, char_indices[char]] = 1\n",
        "    y[i, char_indices[next_chars[i]]] = 1\n",
        "\n",
        "for i, sequence in enumerate(sequences_test):\n",
        "    for t, char in enumerate(sequence):\n",
        "        X_test[i, t, char_indices[char]] = 1\n",
        "    y_test[i, char_indices[next_chars_test[i]]] = 1\n",
        "\n"
      ]
    },
    {
      "cell_type": "code",
      "execution_count": null,
      "id": "9d0982b2-9e07-424a-972d-756380af0ce0",
      "metadata": {
        "id": "9d0982b2-9e07-424a-972d-756380af0ce0"
      },
      "outputs": [],
      "source": [
        "def perplexity(y_true, y_pred):\n",
        "    likelihoods = np.sum(y_pred * y_true, axis=1)\n",
        "    # TWOJ KOD TUTAJ!\n",
        "    return ___\n",
        "def model_perplexity(model, X, y, verbose=0):\n",
        "    predictions = model.predict(X, verbose=verbose)\n",
        "    return perplexity(y, predictions)"
      ]
    },
    {
      "cell_type": "markdown",
      "id": "7f8be466-6af5-4188-b3a4-0db6f2ddb56e",
      "metadata": {
        "id": "7f8be466-6af5-4188-b3a4-0db6f2ddb56e"
      },
      "source": [
        "Zdefiniujmy prosty model sieci RNN wykorzystujący jedną warstwę LSTM i 256 komórek"
      ]
    },
    {
      "cell_type": "code",
      "execution_count": null,
      "id": "9922e665-107c-45d7-9612-dc8a0b3fdadc",
      "metadata": {
        "id": "9922e665-107c-45d7-9612-dc8a0b3fdadc"
      },
      "outputs": [],
      "source": [
        "model = Sequential()\n",
        "model.add(LSTM(256, input_shape=(X.shape[1], X.shape[2])))\n",
        "model.add(Dropout(0.2))\n",
        "model.add(Dense(y.shape[1], activation='softmax'))\n",
        "model.compile(loss='categorical_crossentropy', optimizer='adam')"
      ]
    },
    {
      "cell_type": "markdown",
      "id": "ce11ea8e-f928-454e-8fd1-5de40236a5b3",
      "metadata": {
        "id": "ce11ea8e-f928-454e-8fd1-5de40236a5b3"
      },
      "source": [
        "Zdefiniujmy checkpoint, który może być przydatny w dalszych krokach,\n",
        "warto do nazwy checkpointa dodać nazwę pliku, na bazie którego sieć jest\n",
        " uczona"
      ]
    },
    {
      "cell_type": "code",
      "execution_count": null,
      "id": "e8f1111a-5c14-4ab8-b7c0-c7bd22076894",
      "metadata": {
        "id": "e8f1111a-5c14-4ab8-b7c0-c7bd22076894"
      },
      "outputs": [],
      "source": [
        "filepath=\"weights-improvement-{epoch:02d}-{loss:.4f}.keras\"\n",
        "checkpoint = ModelCheckpoint(filepath, monitor='loss', verbose=1, save_best_only=True, mode='min')\n",
        "callbacks_list = [checkpoint]"
      ]
    },
    {
      "cell_type": "markdown",
      "id": "2ba8c269-324b-4795-b3af-6c731e18730b",
      "metadata": {
        "id": "2ba8c269-324b-4795-b3af-6c731e18730b"
      },
      "source": [
        "Przeprowadź trening z wykorzystaniem `batch_size=128` oraz z wykorzystaniem zdefiniowanego powyżej callback'a przez min. 20 epok. Wykorzystaj funkcję categorical\n",
        "crossentropy, optimizer ADAM oraz wyświetlaj perplexity na zbiorze\n",
        "testowym do oceny modelu w każdej epoce."
      ]
    },
    {
      "cell_type": "code",
      "execution_count": null,
      "id": "9ddfea02-c07d-4a36-bfc1-a3d9e5d29ea2",
      "metadata": {
        "id": "9ddfea02-c07d-4a36-bfc1-a3d9e5d29ea2"
      },
      "outputs": [],
      "source": [
        "# TWOJ KOD TUTAJ!\n"
      ]
    },
    {
      "cell_type": "code",
      "execution_count": null,
      "id": "98ff5a9f-eefb-4b41-93f3-ab7099854e7d",
      "metadata": {
        "id": "98ff5a9f-eefb-4b41-93f3-ab7099854e7d"
      },
      "outputs": [],
      "source": [
        "# Wybierzmy losowe ziarno będące początkiem generowanej sekwencji\n",
        "import sys\n",
        "start = np.random.randint(0, len(sequences)-1)\n",
        "seed_string = sequences[start]\n",
        "print(\"Seed:\")\n",
        "print(\"\\\"\", seed_string, \"\\\"\")\n",
        "\n",
        "generated = seed_string\n",
        "prefix = seed_string\n",
        "length = 200\n",
        "\n",
        "for i in range(length):\n",
        "    x = np.zeros((1, max_length, voc_size))\n",
        "    shift = max_length - len(prefix)\n",
        "    for t, char in enumerate(prefix):\n",
        "        x[0, t + shift, char_indices[char]] = 1.\n",
        "\n",
        "    preds = model.predict(x, verbose=0)\n",
        "    next_index = np.argmax(preds)\n",
        "    next_char = indices_char[next_index]\n",
        "    sys.stdout.write(next_char)\n",
        "    generated += next_char\n",
        "    prefix = prefix[1:] + next_char\n",
        "\n",
        "print(\"\\nKoniec\")"
      ]
    },
    {
      "cell_type": "markdown",
      "id": "ca094381-1dd4-4871-9196-883e4ece9f16",
      "metadata": {
        "id": "ca094381-1dd4-4871-9196-883e4ece9f16"
      },
      "source": [
        "**Dodatkowo** wybierz inne modele sieci wykorzystując inne warstwy, dropout lub kilka warstw np. GRU. Przetestuj przynajmniej trzy różne sieci!"
      ]
    },
    {
      "cell_type": "code",
      "execution_count": null,
      "id": "dd9f9090-b1ab-4a51-a3d5-42dab1b7c9a9",
      "metadata": {
        "id": "dd9f9090-b1ab-4a51-a3d5-42dab1b7c9a9"
      },
      "outputs": [],
      "source": [
        "# TWOJ KOD TUTAJ!"
      ]
    }
  ],
  "metadata": {
    "colab": {
      "provenance": []
    },
    "kernelspec": {
      "display_name": "Python 3 (ipykernel)",
      "language": "python",
      "name": "python3"
    },
    "language_info": {
      "codemirror_mode": {
        "name": "ipython",
        "version": 3
      },
      "file_extension": ".py",
      "mimetype": "text/x-python",
      "name": "python",
      "nbconvert_exporter": "python",
      "pygments_lexer": "ipython3",
      "version": "3.10.13"
    }
  },
  "nbformat": 4,
  "nbformat_minor": 5
}
